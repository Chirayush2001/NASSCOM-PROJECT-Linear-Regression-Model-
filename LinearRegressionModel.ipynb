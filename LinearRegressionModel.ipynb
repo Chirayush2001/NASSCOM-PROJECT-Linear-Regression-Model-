{
  "nbformat": 4,
  "nbformat_minor": 0,
  "metadata": {
    "colab": {
      "name": "LinearRegressionModel.ipynb",
      "provenance": []
    },
    "kernelspec": {
      "name": "python3",
      "display_name": "Python 3"
    },
    "language_info": {
      "name": "python"
    }
  },
  "cells": [
    {
      "cell_type": "markdown",
      "metadata": {
        "id": "3iOyuYiNmr1m"
      },
      "source": [
        "Task\n",
        "Predicting the House Price"
      ]
    },
    {
      "cell_type": "markdown",
      "metadata": {
        "id": "lG4TM1got18K"
      },
      "source": [
        "**Content**\n",
        "\n",
        "Each record in the database describes a Boston suburb or town. The data was drawn from the Boston Standard Metropolitan Statistical Area (SMSA) in 1970. The attributes are deﬁned as follows (taken from the UCI Machine Learning Repository\n",
        "\n",
        "CRIM: per capita crime rate by town\n",
        "\n",
        "ZN: proportion of residential land zoned for lots over 25,000 sq.ft.\n",
        "\n",
        "INDUS: proportion of non-retail business acres per town\n",
        "\n",
        "CHAS: Charles River dummy variable (= 1 if tract bounds river; 0 otherwise)\n",
        "NOX: nitric oxides concentration (parts per 10 million)\n",
        "1https://archive.ics.uci.edu/ml/datasets/Housing\n",
        "123\n",
        "20.2. Load the Dataset 124\n",
        "\n",
        "RM: average number of rooms per dwelling\n",
        "\n",
        "AGE: proportion of owner-occupied units built prior to 1940\n",
        "\n",
        "DIS: weighted distances to ﬁve Boston employment centers\n",
        "\n",
        "RAD: index of accessibility to radial highways\n",
        "\n",
        "TAX: full-value property-tax rate per $10,000\n",
        "\n",
        "PTRATIO: pupil-teacher ratio by town 12. B: 1000(Bk−0.63)2 where Bk is the proportion of blacks by town 13. LSTAT: % lower status of the population\n",
        "\n",
        "MEDV: Median value of owner-occupied homes in $1000s\n",
        "We can see that the input attributes have a mixture of units."
      ]
    },
    {
      "cell_type": "markdown",
      "metadata": {
        "id": "zTkuu9yPs70G"
      },
      "source": [
        "**LOADING DATASET**"
      ]
    },
    {
      "cell_type": "code",
      "metadata": {
        "id": "5TwHbGNkmm-W"
      },
      "source": [
        "import numpy as np\n",
        "import pandas as pd\n",
        "from pandas import Series,DataFrame\n",
        "from sklearn.datasets import load_boston\n",
        "import seaborn as sns\n",
        "import matplotlib.pyplot as plt"
      ],
      "execution_count": 8,
      "outputs": []
    },
    {
      "cell_type": "code",
      "metadata": {
        "colab": {
          "base_uri": "https://localhost:8080/"
        },
        "id": "8nc4OgNcsMTu",
        "outputId": "df703d94-b6ea-486b-b6cd-41df608dec18"
      },
      "source": [
        "boston = load_boston()\n",
        "print(boston.data)\n",
        "print(boston.data.shape)"
      ],
      "execution_count": 12,
      "outputs": [
        {
          "output_type": "stream",
          "name": "stdout",
          "text": [
            "[[6.3200e-03 1.8000e+01 2.3100e+00 ... 1.5300e+01 3.9690e+02 4.9800e+00]\n",
            " [2.7310e-02 0.0000e+00 7.0700e+00 ... 1.7800e+01 3.9690e+02 9.1400e+00]\n",
            " [2.7290e-02 0.0000e+00 7.0700e+00 ... 1.7800e+01 3.9283e+02 4.0300e+00]\n",
            " ...\n",
            " [6.0760e-02 0.0000e+00 1.1930e+01 ... 2.1000e+01 3.9690e+02 5.6400e+00]\n",
            " [1.0959e-01 0.0000e+00 1.1930e+01 ... 2.1000e+01 3.9345e+02 6.4800e+00]\n",
            " [4.7410e-02 0.0000e+00 1.1930e+01 ... 2.1000e+01 3.9690e+02 7.8800e+00]]\n",
            "(506, 13)\n"
          ]
        }
      ]
    },
    {
      "cell_type": "code",
      "metadata": {
        "colab": {
          "base_uri": "https://localhost:8080/",
          "height": 414
        },
        "id": "our07QHDRefn",
        "outputId": "bb9bfa56-575a-42bf-b68b-f26258a0613c"
      },
      "source": [
        "bos"
      ],
      "execution_count": 14,
      "outputs": [
        {
          "output_type": "execute_result",
          "data": {
            "text/html": [
              "<div>\n",
              "<style scoped>\n",
              "    .dataframe tbody tr th:only-of-type {\n",
              "        vertical-align: middle;\n",
              "    }\n",
              "\n",
              "    .dataframe tbody tr th {\n",
              "        vertical-align: top;\n",
              "    }\n",
              "\n",
              "    .dataframe thead th {\n",
              "        text-align: right;\n",
              "    }\n",
              "</style>\n",
              "<table border=\"1\" class=\"dataframe\">\n",
              "  <thead>\n",
              "    <tr style=\"text-align: right;\">\n",
              "      <th></th>\n",
              "      <th>CRIM</th>\n",
              "      <th>ZN</th>\n",
              "      <th>INDUS</th>\n",
              "      <th>CHAS</th>\n",
              "      <th>NOX</th>\n",
              "      <th>RM</th>\n",
              "      <th>AGE</th>\n",
              "      <th>DIS</th>\n",
              "      <th>RAD</th>\n",
              "      <th>TAX</th>\n",
              "      <th>PTRATIO</th>\n",
              "      <th>B</th>\n",
              "      <th>LSTAT</th>\n",
              "      <th>Price</th>\n",
              "    </tr>\n",
              "  </thead>\n",
              "  <tbody>\n",
              "    <tr>\n",
              "      <th>0</th>\n",
              "      <td>0.00632</td>\n",
              "      <td>18.0</td>\n",
              "      <td>2.31</td>\n",
              "      <td>0.0</td>\n",
              "      <td>0.538</td>\n",
              "      <td>6.575</td>\n",
              "      <td>65.2</td>\n",
              "      <td>4.0900</td>\n",
              "      <td>1.0</td>\n",
              "      <td>296.0</td>\n",
              "      <td>15.3</td>\n",
              "      <td>396.90</td>\n",
              "      <td>4.98</td>\n",
              "      <td>24.0</td>\n",
              "    </tr>\n",
              "    <tr>\n",
              "      <th>1</th>\n",
              "      <td>0.02731</td>\n",
              "      <td>0.0</td>\n",
              "      <td>7.07</td>\n",
              "      <td>0.0</td>\n",
              "      <td>0.469</td>\n",
              "      <td>6.421</td>\n",
              "      <td>78.9</td>\n",
              "      <td>4.9671</td>\n",
              "      <td>2.0</td>\n",
              "      <td>242.0</td>\n",
              "      <td>17.8</td>\n",
              "      <td>396.90</td>\n",
              "      <td>9.14</td>\n",
              "      <td>21.6</td>\n",
              "    </tr>\n",
              "    <tr>\n",
              "      <th>2</th>\n",
              "      <td>0.02729</td>\n",
              "      <td>0.0</td>\n",
              "      <td>7.07</td>\n",
              "      <td>0.0</td>\n",
              "      <td>0.469</td>\n",
              "      <td>7.185</td>\n",
              "      <td>61.1</td>\n",
              "      <td>4.9671</td>\n",
              "      <td>2.0</td>\n",
              "      <td>242.0</td>\n",
              "      <td>17.8</td>\n",
              "      <td>392.83</td>\n",
              "      <td>4.03</td>\n",
              "      <td>34.7</td>\n",
              "    </tr>\n",
              "    <tr>\n",
              "      <th>3</th>\n",
              "      <td>0.03237</td>\n",
              "      <td>0.0</td>\n",
              "      <td>2.18</td>\n",
              "      <td>0.0</td>\n",
              "      <td>0.458</td>\n",
              "      <td>6.998</td>\n",
              "      <td>45.8</td>\n",
              "      <td>6.0622</td>\n",
              "      <td>3.0</td>\n",
              "      <td>222.0</td>\n",
              "      <td>18.7</td>\n",
              "      <td>394.63</td>\n",
              "      <td>2.94</td>\n",
              "      <td>33.4</td>\n",
              "    </tr>\n",
              "    <tr>\n",
              "      <th>4</th>\n",
              "      <td>0.06905</td>\n",
              "      <td>0.0</td>\n",
              "      <td>2.18</td>\n",
              "      <td>0.0</td>\n",
              "      <td>0.458</td>\n",
              "      <td>7.147</td>\n",
              "      <td>54.2</td>\n",
              "      <td>6.0622</td>\n",
              "      <td>3.0</td>\n",
              "      <td>222.0</td>\n",
              "      <td>18.7</td>\n",
              "      <td>396.90</td>\n",
              "      <td>5.33</td>\n",
              "      <td>36.2</td>\n",
              "    </tr>\n",
              "    <tr>\n",
              "      <th>...</th>\n",
              "      <td>...</td>\n",
              "      <td>...</td>\n",
              "      <td>...</td>\n",
              "      <td>...</td>\n",
              "      <td>...</td>\n",
              "      <td>...</td>\n",
              "      <td>...</td>\n",
              "      <td>...</td>\n",
              "      <td>...</td>\n",
              "      <td>...</td>\n",
              "      <td>...</td>\n",
              "      <td>...</td>\n",
              "      <td>...</td>\n",
              "      <td>...</td>\n",
              "    </tr>\n",
              "    <tr>\n",
              "      <th>501</th>\n",
              "      <td>0.06263</td>\n",
              "      <td>0.0</td>\n",
              "      <td>11.93</td>\n",
              "      <td>0.0</td>\n",
              "      <td>0.573</td>\n",
              "      <td>6.593</td>\n",
              "      <td>69.1</td>\n",
              "      <td>2.4786</td>\n",
              "      <td>1.0</td>\n",
              "      <td>273.0</td>\n",
              "      <td>21.0</td>\n",
              "      <td>391.99</td>\n",
              "      <td>9.67</td>\n",
              "      <td>22.4</td>\n",
              "    </tr>\n",
              "    <tr>\n",
              "      <th>502</th>\n",
              "      <td>0.04527</td>\n",
              "      <td>0.0</td>\n",
              "      <td>11.93</td>\n",
              "      <td>0.0</td>\n",
              "      <td>0.573</td>\n",
              "      <td>6.120</td>\n",
              "      <td>76.7</td>\n",
              "      <td>2.2875</td>\n",
              "      <td>1.0</td>\n",
              "      <td>273.0</td>\n",
              "      <td>21.0</td>\n",
              "      <td>396.90</td>\n",
              "      <td>9.08</td>\n",
              "      <td>20.6</td>\n",
              "    </tr>\n",
              "    <tr>\n",
              "      <th>503</th>\n",
              "      <td>0.06076</td>\n",
              "      <td>0.0</td>\n",
              "      <td>11.93</td>\n",
              "      <td>0.0</td>\n",
              "      <td>0.573</td>\n",
              "      <td>6.976</td>\n",
              "      <td>91.0</td>\n",
              "      <td>2.1675</td>\n",
              "      <td>1.0</td>\n",
              "      <td>273.0</td>\n",
              "      <td>21.0</td>\n",
              "      <td>396.90</td>\n",
              "      <td>5.64</td>\n",
              "      <td>23.9</td>\n",
              "    </tr>\n",
              "    <tr>\n",
              "      <th>504</th>\n",
              "      <td>0.10959</td>\n",
              "      <td>0.0</td>\n",
              "      <td>11.93</td>\n",
              "      <td>0.0</td>\n",
              "      <td>0.573</td>\n",
              "      <td>6.794</td>\n",
              "      <td>89.3</td>\n",
              "      <td>2.3889</td>\n",
              "      <td>1.0</td>\n",
              "      <td>273.0</td>\n",
              "      <td>21.0</td>\n",
              "      <td>393.45</td>\n",
              "      <td>6.48</td>\n",
              "      <td>22.0</td>\n",
              "    </tr>\n",
              "    <tr>\n",
              "      <th>505</th>\n",
              "      <td>0.04741</td>\n",
              "      <td>0.0</td>\n",
              "      <td>11.93</td>\n",
              "      <td>0.0</td>\n",
              "      <td>0.573</td>\n",
              "      <td>6.030</td>\n",
              "      <td>80.8</td>\n",
              "      <td>2.5050</td>\n",
              "      <td>1.0</td>\n",
              "      <td>273.0</td>\n",
              "      <td>21.0</td>\n",
              "      <td>396.90</td>\n",
              "      <td>7.88</td>\n",
              "      <td>11.9</td>\n",
              "    </tr>\n",
              "  </tbody>\n",
              "</table>\n",
              "<p>506 rows × 14 columns</p>\n",
              "</div>"
            ],
            "text/plain": [
              "        CRIM    ZN  INDUS  CHAS    NOX  ...    TAX  PTRATIO       B  LSTAT  Price\n",
              "0    0.00632  18.0   2.31   0.0  0.538  ...  296.0     15.3  396.90   4.98   24.0\n",
              "1    0.02731   0.0   7.07   0.0  0.469  ...  242.0     17.8  396.90   9.14   21.6\n",
              "2    0.02729   0.0   7.07   0.0  0.469  ...  242.0     17.8  392.83   4.03   34.7\n",
              "3    0.03237   0.0   2.18   0.0  0.458  ...  222.0     18.7  394.63   2.94   33.4\n",
              "4    0.06905   0.0   2.18   0.0  0.458  ...  222.0     18.7  396.90   5.33   36.2\n",
              "..       ...   ...    ...   ...    ...  ...    ...      ...     ...    ...    ...\n",
              "501  0.06263   0.0  11.93   0.0  0.573  ...  273.0     21.0  391.99   9.67   22.4\n",
              "502  0.04527   0.0  11.93   0.0  0.573  ...  273.0     21.0  396.90   9.08   20.6\n",
              "503  0.06076   0.0  11.93   0.0  0.573  ...  273.0     21.0  396.90   5.64   23.9\n",
              "504  0.10959   0.0  11.93   0.0  0.573  ...  273.0     21.0  393.45   6.48   22.0\n",
              "505  0.04741   0.0  11.93   0.0  0.573  ...  273.0     21.0  396.90   7.88   11.9\n",
              "\n",
              "[506 rows x 14 columns]"
            ]
          },
          "metadata": {},
          "execution_count": 14
        }
      ]
    },
    {
      "cell_type": "code",
      "metadata": {
        "colab": {
          "base_uri": "https://localhost:8080/"
        },
        "id": "bx8tP43Qtz17",
        "outputId": "e0fbca65-ba51-45f1-b7c4-bf4802429c8b"
      },
      "source": [
        "print(boston.DESCR)"
      ],
      "execution_count": null,
      "outputs": [
        {
          "output_type": "stream",
          "name": "stdout",
          "text": [
            ".. _boston_dataset:\n",
            "\n",
            "Boston house prices dataset\n",
            "---------------------------\n",
            "\n",
            "**Data Set Characteristics:**  \n",
            "\n",
            "    :Number of Instances: 506 \n",
            "\n",
            "    :Number of Attributes: 13 numeric/categorical predictive. Median Value (attribute 14) is usually the target.\n",
            "\n",
            "    :Attribute Information (in order):\n",
            "        - CRIM     per capita crime rate by town\n",
            "        - ZN       proportion of residential land zoned for lots over 25,000 sq.ft.\n",
            "        - INDUS    proportion of non-retail business acres per town\n",
            "        - CHAS     Charles River dummy variable (= 1 if tract bounds river; 0 otherwise)\n",
            "        - NOX      nitric oxides concentration (parts per 10 million)\n",
            "        - RM       average number of rooms per dwelling\n",
            "        - AGE      proportion of owner-occupied units built prior to 1940\n",
            "        - DIS      weighted distances to five Boston employment centres\n",
            "        - RAD      index of accessibility to radial highways\n",
            "        - TAX      full-value property-tax rate per $10,000\n",
            "        - PTRATIO  pupil-teacher ratio by town\n",
            "        - B        1000(Bk - 0.63)^2 where Bk is the proportion of blacks by town\n",
            "        - LSTAT    % lower status of the population\n",
            "        - MEDV     Median value of owner-occupied homes in $1000's\n",
            "\n",
            "    :Missing Attribute Values: None\n",
            "\n",
            "    :Creator: Harrison, D. and Rubinfeld, D.L.\n",
            "\n",
            "This is a copy of UCI ML housing dataset.\n",
            "https://archive.ics.uci.edu/ml/machine-learning-databases/housing/\n",
            "\n",
            "\n",
            "This dataset was taken from the StatLib library which is maintained at Carnegie Mellon University.\n",
            "\n",
            "The Boston house-price data of Harrison, D. and Rubinfeld, D.L. 'Hedonic\n",
            "prices and the demand for clean air', J. Environ. Economics & Management,\n",
            "vol.5, 81-102, 1978.   Used in Belsley, Kuh & Welsch, 'Regression diagnostics\n",
            "...', Wiley, 1980.   N.B. Various transformations are used in the table on\n",
            "pages 244-261 of the latter.\n",
            "\n",
            "The Boston house-price data has been used in many machine learning papers that address regression\n",
            "problems.   \n",
            "     \n",
            ".. topic:: References\n",
            "\n",
            "   - Belsley, Kuh & Welsch, 'Regression diagnostics: Identifying Influential Data and Sources of Collinearity', Wiley, 1980. 244-261.\n",
            "   - Quinlan,R. (1993). Combining Instance-Based and Model-Based Learning. In Proceedings on the Tenth International Conference of Machine Learning, 236-243, University of Massachusetts, Amherst. Morgan Kaufmann.\n",
            "\n"
          ]
        }
      ]
    },
    {
      "cell_type": "code",
      "metadata": {
        "colab": {
          "base_uri": "https://localhost:8080/",
          "height": 294
        },
        "id": "HdV7rWqHygZ5",
        "outputId": "20777c3d-ee6f-40ab-d2d4-14f80803b5a2"
      },
      "source": [
        "bos.describe()"
      ],
      "execution_count": null,
      "outputs": [
        {
          "output_type": "execute_result",
          "data": {
            "text/html": [
              "<div>\n",
              "<style scoped>\n",
              "    .dataframe tbody tr th:only-of-type {\n",
              "        vertical-align: middle;\n",
              "    }\n",
              "\n",
              "    .dataframe tbody tr th {\n",
              "        vertical-align: top;\n",
              "    }\n",
              "\n",
              "    .dataframe thead th {\n",
              "        text-align: right;\n",
              "    }\n",
              "</style>\n",
              "<table border=\"1\" class=\"dataframe\">\n",
              "  <thead>\n",
              "    <tr style=\"text-align: right;\">\n",
              "      <th></th>\n",
              "      <th>CRIM</th>\n",
              "      <th>ZN</th>\n",
              "      <th>INDUS</th>\n",
              "      <th>CHAS</th>\n",
              "      <th>NOX</th>\n",
              "      <th>RM</th>\n",
              "      <th>AGE</th>\n",
              "      <th>DIS</th>\n",
              "      <th>RAD</th>\n",
              "      <th>TAX</th>\n",
              "      <th>PTRATIO</th>\n",
              "      <th>B</th>\n",
              "      <th>LSTAT</th>\n",
              "      <th>Price</th>\n",
              "    </tr>\n",
              "  </thead>\n",
              "  <tbody>\n",
              "    <tr>\n",
              "      <th>count</th>\n",
              "      <td>506.000000</td>\n",
              "      <td>506.000000</td>\n",
              "      <td>506.000000</td>\n",
              "      <td>506.000000</td>\n",
              "      <td>506.000000</td>\n",
              "      <td>506.000000</td>\n",
              "      <td>506.000000</td>\n",
              "      <td>506.000000</td>\n",
              "      <td>506.000000</td>\n",
              "      <td>506.000000</td>\n",
              "      <td>506.000000</td>\n",
              "      <td>506.000000</td>\n",
              "      <td>506.000000</td>\n",
              "      <td>506.000000</td>\n",
              "    </tr>\n",
              "    <tr>\n",
              "      <th>mean</th>\n",
              "      <td>3.613524</td>\n",
              "      <td>11.363636</td>\n",
              "      <td>11.136779</td>\n",
              "      <td>0.069170</td>\n",
              "      <td>0.554695</td>\n",
              "      <td>6.284634</td>\n",
              "      <td>68.574901</td>\n",
              "      <td>3.795043</td>\n",
              "      <td>9.549407</td>\n",
              "      <td>408.237154</td>\n",
              "      <td>18.455534</td>\n",
              "      <td>356.674032</td>\n",
              "      <td>12.653063</td>\n",
              "      <td>22.532806</td>\n",
              "    </tr>\n",
              "    <tr>\n",
              "      <th>std</th>\n",
              "      <td>8.601545</td>\n",
              "      <td>23.322453</td>\n",
              "      <td>6.860353</td>\n",
              "      <td>0.253994</td>\n",
              "      <td>0.115878</td>\n",
              "      <td>0.702617</td>\n",
              "      <td>28.148861</td>\n",
              "      <td>2.105710</td>\n",
              "      <td>8.707259</td>\n",
              "      <td>168.537116</td>\n",
              "      <td>2.164946</td>\n",
              "      <td>91.294864</td>\n",
              "      <td>7.141062</td>\n",
              "      <td>9.197104</td>\n",
              "    </tr>\n",
              "    <tr>\n",
              "      <th>min</th>\n",
              "      <td>0.006320</td>\n",
              "      <td>0.000000</td>\n",
              "      <td>0.460000</td>\n",
              "      <td>0.000000</td>\n",
              "      <td>0.385000</td>\n",
              "      <td>3.561000</td>\n",
              "      <td>2.900000</td>\n",
              "      <td>1.129600</td>\n",
              "      <td>1.000000</td>\n",
              "      <td>187.000000</td>\n",
              "      <td>12.600000</td>\n",
              "      <td>0.320000</td>\n",
              "      <td>1.730000</td>\n",
              "      <td>5.000000</td>\n",
              "    </tr>\n",
              "    <tr>\n",
              "      <th>25%</th>\n",
              "      <td>0.082045</td>\n",
              "      <td>0.000000</td>\n",
              "      <td>5.190000</td>\n",
              "      <td>0.000000</td>\n",
              "      <td>0.449000</td>\n",
              "      <td>5.885500</td>\n",
              "      <td>45.025000</td>\n",
              "      <td>2.100175</td>\n",
              "      <td>4.000000</td>\n",
              "      <td>279.000000</td>\n",
              "      <td>17.400000</td>\n",
              "      <td>375.377500</td>\n",
              "      <td>6.950000</td>\n",
              "      <td>17.025000</td>\n",
              "    </tr>\n",
              "    <tr>\n",
              "      <th>50%</th>\n",
              "      <td>0.256510</td>\n",
              "      <td>0.000000</td>\n",
              "      <td>9.690000</td>\n",
              "      <td>0.000000</td>\n",
              "      <td>0.538000</td>\n",
              "      <td>6.208500</td>\n",
              "      <td>77.500000</td>\n",
              "      <td>3.207450</td>\n",
              "      <td>5.000000</td>\n",
              "      <td>330.000000</td>\n",
              "      <td>19.050000</td>\n",
              "      <td>391.440000</td>\n",
              "      <td>11.360000</td>\n",
              "      <td>21.200000</td>\n",
              "    </tr>\n",
              "    <tr>\n",
              "      <th>75%</th>\n",
              "      <td>3.677083</td>\n",
              "      <td>12.500000</td>\n",
              "      <td>18.100000</td>\n",
              "      <td>0.000000</td>\n",
              "      <td>0.624000</td>\n",
              "      <td>6.623500</td>\n",
              "      <td>94.075000</td>\n",
              "      <td>5.188425</td>\n",
              "      <td>24.000000</td>\n",
              "      <td>666.000000</td>\n",
              "      <td>20.200000</td>\n",
              "      <td>396.225000</td>\n",
              "      <td>16.955000</td>\n",
              "      <td>25.000000</td>\n",
              "    </tr>\n",
              "    <tr>\n",
              "      <th>max</th>\n",
              "      <td>88.976200</td>\n",
              "      <td>100.000000</td>\n",
              "      <td>27.740000</td>\n",
              "      <td>1.000000</td>\n",
              "      <td>0.871000</td>\n",
              "      <td>8.780000</td>\n",
              "      <td>100.000000</td>\n",
              "      <td>12.126500</td>\n",
              "      <td>24.000000</td>\n",
              "      <td>711.000000</td>\n",
              "      <td>22.000000</td>\n",
              "      <td>396.900000</td>\n",
              "      <td>37.970000</td>\n",
              "      <td>50.000000</td>\n",
              "    </tr>\n",
              "  </tbody>\n",
              "</table>\n",
              "</div>"
            ],
            "text/plain": [
              "             CRIM          ZN       INDUS  ...           B       LSTAT       Price\n",
              "count  506.000000  506.000000  506.000000  ...  506.000000  506.000000  506.000000\n",
              "mean     3.613524   11.363636   11.136779  ...  356.674032   12.653063   22.532806\n",
              "std      8.601545   23.322453    6.860353  ...   91.294864    7.141062    9.197104\n",
              "min      0.006320    0.000000    0.460000  ...    0.320000    1.730000    5.000000\n",
              "25%      0.082045    0.000000    5.190000  ...  375.377500    6.950000   17.025000\n",
              "50%      0.256510    0.000000    9.690000  ...  391.440000   11.360000   21.200000\n",
              "75%      3.677083   12.500000   18.100000  ...  396.225000   16.955000   25.000000\n",
              "max     88.976200  100.000000   27.740000  ...  396.900000   37.970000   50.000000\n",
              "\n",
              "[8 rows x 14 columns]"
            ]
          },
          "metadata": {},
          "execution_count": 21
        }
      ]
    },
    {
      "cell_type": "code",
      "metadata": {
        "colab": {
          "base_uri": "https://localhost:8080/",
          "height": 202
        },
        "id": "LtJXbpACsuyQ",
        "outputId": "5b9d70e6-4e42-45ed-ad05-a36ac5445bf9"
      },
      "source": [
        "bos.head()"
      ],
      "execution_count": null,
      "outputs": [
        {
          "output_type": "execute_result",
          "data": {
            "text/html": [
              "<div>\n",
              "<style scoped>\n",
              "    .dataframe tbody tr th:only-of-type {\n",
              "        vertical-align: middle;\n",
              "    }\n",
              "\n",
              "    .dataframe tbody tr th {\n",
              "        vertical-align: top;\n",
              "    }\n",
              "\n",
              "    .dataframe thead th {\n",
              "        text-align: right;\n",
              "    }\n",
              "</style>\n",
              "<table border=\"1\" class=\"dataframe\">\n",
              "  <thead>\n",
              "    <tr style=\"text-align: right;\">\n",
              "      <th></th>\n",
              "      <th>CRIM</th>\n",
              "      <th>ZN</th>\n",
              "      <th>INDUS</th>\n",
              "      <th>CHAS</th>\n",
              "      <th>NOX</th>\n",
              "      <th>RM</th>\n",
              "      <th>AGE</th>\n",
              "      <th>DIS</th>\n",
              "      <th>RAD</th>\n",
              "      <th>TAX</th>\n",
              "      <th>PTRATIO</th>\n",
              "      <th>B</th>\n",
              "      <th>LSTAT</th>\n",
              "      <th>PRICE</th>\n",
              "    </tr>\n",
              "  </thead>\n",
              "  <tbody>\n",
              "    <tr>\n",
              "      <th>0</th>\n",
              "      <td>0.00632</td>\n",
              "      <td>18.0</td>\n",
              "      <td>2.31</td>\n",
              "      <td>0.0</td>\n",
              "      <td>0.538</td>\n",
              "      <td>6.575</td>\n",
              "      <td>65.2</td>\n",
              "      <td>4.0900</td>\n",
              "      <td>1.0</td>\n",
              "      <td>296.0</td>\n",
              "      <td>15.3</td>\n",
              "      <td>396.90</td>\n",
              "      <td>4.98</td>\n",
              "      <td>24.0</td>\n",
              "    </tr>\n",
              "    <tr>\n",
              "      <th>1</th>\n",
              "      <td>0.02731</td>\n",
              "      <td>0.0</td>\n",
              "      <td>7.07</td>\n",
              "      <td>0.0</td>\n",
              "      <td>0.469</td>\n",
              "      <td>6.421</td>\n",
              "      <td>78.9</td>\n",
              "      <td>4.9671</td>\n",
              "      <td>2.0</td>\n",
              "      <td>242.0</td>\n",
              "      <td>17.8</td>\n",
              "      <td>396.90</td>\n",
              "      <td>9.14</td>\n",
              "      <td>21.6</td>\n",
              "    </tr>\n",
              "    <tr>\n",
              "      <th>2</th>\n",
              "      <td>0.02729</td>\n",
              "      <td>0.0</td>\n",
              "      <td>7.07</td>\n",
              "      <td>0.0</td>\n",
              "      <td>0.469</td>\n",
              "      <td>7.185</td>\n",
              "      <td>61.1</td>\n",
              "      <td>4.9671</td>\n",
              "      <td>2.0</td>\n",
              "      <td>242.0</td>\n",
              "      <td>17.8</td>\n",
              "      <td>392.83</td>\n",
              "      <td>4.03</td>\n",
              "      <td>34.7</td>\n",
              "    </tr>\n",
              "    <tr>\n",
              "      <th>3</th>\n",
              "      <td>0.03237</td>\n",
              "      <td>0.0</td>\n",
              "      <td>2.18</td>\n",
              "      <td>0.0</td>\n",
              "      <td>0.458</td>\n",
              "      <td>6.998</td>\n",
              "      <td>45.8</td>\n",
              "      <td>6.0622</td>\n",
              "      <td>3.0</td>\n",
              "      <td>222.0</td>\n",
              "      <td>18.7</td>\n",
              "      <td>394.63</td>\n",
              "      <td>2.94</td>\n",
              "      <td>33.4</td>\n",
              "    </tr>\n",
              "    <tr>\n",
              "      <th>4</th>\n",
              "      <td>0.06905</td>\n",
              "      <td>0.0</td>\n",
              "      <td>2.18</td>\n",
              "      <td>0.0</td>\n",
              "      <td>0.458</td>\n",
              "      <td>7.147</td>\n",
              "      <td>54.2</td>\n",
              "      <td>6.0622</td>\n",
              "      <td>3.0</td>\n",
              "      <td>222.0</td>\n",
              "      <td>18.7</td>\n",
              "      <td>396.90</td>\n",
              "      <td>5.33</td>\n",
              "      <td>36.2</td>\n",
              "    </tr>\n",
              "  </tbody>\n",
              "</table>\n",
              "</div>"
            ],
            "text/plain": [
              "      CRIM    ZN  INDUS  CHAS    NOX  ...    TAX  PTRATIO       B  LSTAT  PRICE\n",
              "0  0.00632  18.0   2.31   0.0  0.538  ...  296.0     15.3  396.90   4.98   24.0\n",
              "1  0.02731   0.0   7.07   0.0  0.469  ...  242.0     17.8  396.90   9.14   21.6\n",
              "2  0.02729   0.0   7.07   0.0  0.469  ...  242.0     17.8  392.83   4.03   34.7\n",
              "3  0.03237   0.0   2.18   0.0  0.458  ...  222.0     18.7  394.63   2.94   33.4\n",
              "4  0.06905   0.0   2.18   0.0  0.458  ...  222.0     18.7  396.90   5.33   36.2\n",
              "\n",
              "[5 rows x 14 columns]"
            ]
          },
          "metadata": {},
          "execution_count": 41
        }
      ]
    },
    {
      "cell_type": "markdown",
      "metadata": {
        "id": "6aHm4WKcs0td"
      },
      "source": [
        "DATA PREPROCESSING"
      ]
    },
    {
      "cell_type": "markdown",
      "metadata": {
        "id": "KpgC5snIvAyd"
      },
      "source": [
        "Checking for missing values"
      ]
    },
    {
      "cell_type": "code",
      "metadata": {
        "colab": {
          "base_uri": "https://localhost:8080/"
        },
        "id": "cPtsOiE6u_8s",
        "outputId": "b36ad146-9611-4b1a-9349-fed0dc374fb9"
      },
      "source": [
        "bos.isnull().sum()"
      ],
      "execution_count": null,
      "outputs": [
        {
          "output_type": "execute_result",
          "data": {
            "text/plain": [
              "CRIM       0\n",
              "ZN         0\n",
              "INDUS      0\n",
              "CHAS       0\n",
              "NOX        0\n",
              "RM         0\n",
              "AGE        0\n",
              "DIS        0\n",
              "RAD        0\n",
              "TAX        0\n",
              "PTRATIO    0\n",
              "B          0\n",
              "LSTAT      0\n",
              "PRICE      0\n",
              "dtype: int64"
            ]
          },
          "metadata": {},
          "execution_count": 42
        }
      ]
    },
    {
      "cell_type": "markdown",
      "metadata": {
        "id": "tdQ0fkBLuKmM"
      },
      "source": [
        "**VISUALSING DATA**"
      ]
    },
    {
      "cell_type": "code",
      "metadata": {
        "colab": {
          "base_uri": "https://localhost:8080/",
          "height": 352
        },
        "id": "o-_YfblkMsg7",
        "outputId": "87455dc6-fa0c-45fe-9d81-be4448f459c0"
      },
      "source": [
        "sns.distplot(bos.Price,kde=False,color=\"b\")"
      ],
      "execution_count": null,
      "outputs": [
        {
          "output_type": "stream",
          "name": "stderr",
          "text": [
            "/usr/local/lib/python3.7/dist-packages/seaborn/distributions.py:2619: FutureWarning: `distplot` is a deprecated function and will be removed in a future version. Please adapt your code to use either `displot` (a figure-level function with similar flexibility) or `histplot` (an axes-level function for histograms).\n",
            "  warnings.warn(msg, FutureWarning)\n"
          ]
        },
        {
          "output_type": "execute_result",
          "data": {
            "text/plain": [
              "<matplotlib.axes._subplots.AxesSubplot at 0x7fc09e74b0d0>"
            ]
          },
          "metadata": {},
          "execution_count": 22
        },
        {
          "output_type": "display_data",
          "data": {
            "image/png": "[encoded data removed]",
            "text/plain": [
              "<Figure size 432x288 with 1 Axes>"
            ]
          },
          "metadata": {
            "needs_background": "light"
          }
        }
      ]
    },
    {
      "cell_type": "code",
      "metadata": {
        "colab": {
          "base_uri": "https://localhost:8080/",
          "height": 282
        },
        "id": "t243xNP3vtfB",
        "outputId": "d2f43fee-ff2c-4459-9234-5f5740846b72"
      },
      "source": [
        "bos.boxplot()"
      ],
      "execution_count": null,
      "outputs": [
        {
          "output_type": "execute_result",
          "data": {
            "text/plain": [
              "<matplotlib.axes._subplots.AxesSubplot at 0x7f1c6cad3990>"
            ]
          },
          "metadata": {},
          "execution_count": 43
        },
        {
          "output_type": "display_data",
          "data": {
            "image/png": "[encoded data removed]",
            "text/plain": [
              "<Figure size 432x288 with 1 Axes>"
            ]
          },
          "metadata": {}
        }
      ]
    },
    {
      "cell_type": "code",
      "metadata": {
        "colab": {
          "base_uri": "https://localhost:8080/",
          "height": 913
        },
        "id": "ioWUONMkvwUB",
        "outputId": "3aef5556-c006-4071-8d5b-65e65ea07450"
      },
      "source": [
        "bos.plot(kind='box',subplots=True,layout=(5,4),fontsize=12,figsize=(20,20))\n",
        "plt.show()"
      ],
      "execution_count": null,
      "outputs": [
        {
          "output_type": "display_data",
          "data": {
            "image/png": "[encoded data removed]",
            "text/plain": [
              "<Figure size 1440x1440 with 20 Axes>"
            ]
          },
          "metadata": {}
        }
      ]
    },
    {
      "cell_type": "code",
      "metadata": {
        "id": "tE0UJuRIxbjx",
        "colab": {
          "base_uri": "https://localhost:8080/",
          "height": 477
        },
        "outputId": "572b9dc3-0be8-4d7b-e003-41c3eb9fbfef"
      },
      "source": [
        "bos.describe(include='all')\n",
        "corr = bos.corr()\n",
        "corr.style.background_gradient(cmap = 'coolwarm') # let's color code correlation"
      ],
      "execution_count": null,
      "outputs": [
        {
          "output_type": "execute_result",
          "data": {
            "text/html": [
              "<style  type=\"text/css\" >\n",
              "#T_744b7354_39a6_11ec_8470_0242ac1c0002row0_col0,#T_744b7354_39a6_11ec_8470_0242ac1c0002row1_col1,#T_744b7354_39a6_11ec_8470_0242ac1c0002row2_col2,#T_744b7354_39a6_11ec_8470_0242ac1c0002row3_col3,#T_744b7354_39a6_11ec_8470_0242ac1c0002row4_col4,#T_744b7354_39a6_11ec_8470_0242ac1c0002row5_col5,#T_744b7354_39a6_11ec_8470_0242ac1c0002row6_col6,#T_744b7354_39a6_11ec_8470_0242ac1c0002row7_col7,#T_744b7354_39a6_11ec_8470_0242ac1c0002row8_col8,#T_744b7354_39a6_11ec_8470_0242ac1c0002row9_col9,#T_744b7354_39a6_11ec_8470_0242ac1c0002row10_col10,#T_744b7354_39a6_11ec_8470_0242ac1c0002row11_col11,#T_744b7354_39a6_11ec_8470_0242ac1c0002row12_col12,#T_744b7354_39a6_11ec_8470_0242ac1c0002row13_col13{\n",
              "            background-color:  #b40426;\n",
              "            color:  #f1f1f1;\n",
              "        }#T_744b7354_39a6_11ec_8470_0242ac1c0002row0_col1{\n",
              "            background-color:  #88abfd;\n",
              "            color:  #000000;\n",
              "        }#T_744b7354_39a6_11ec_8470_0242ac1c0002row0_col2{\n",
              "            background-color:  #f7bca1;\n",
              "            color:  #000000;\n",
              "        }#T_744b7354_39a6_11ec_8470_0242ac1c0002row0_col3{\n",
              "            background-color:  #4b64d5;\n",
              "            color:  #f1f1f1;\n",
              "        }#T_744b7354_39a6_11ec_8470_0242ac1c0002row0_col4{\n",
              "            background-color:  #f7b599;\n",
              "            color:  #000000;\n",
              "        }#T_744b7354_39a6_11ec_8470_0242ac1c0002row0_col5{\n",
              "            background-color:  #8badfd;\n",
              "            color:  #000000;\n",
              "        }#T_744b7354_39a6_11ec_8470_0242ac1c0002row0_col6,#T_744b7354_39a6_11ec_8470_0242ac1c0002row1_col13{\n",
              "            background-color:  #f5c2aa;\n",
              "            color:  #000000;\n",
              "        }#T_744b7354_39a6_11ec_8470_0242ac1c0002row0_col7,#T_744b7354_39a6_11ec_8470_0242ac1c0002row11_col4,#T_744b7354_39a6_11ec_8470_0242ac1c0002row11_col10{\n",
              "            background-color:  #82a6fb;\n",
              "            color:  #000000;\n",
              "        }#T_744b7354_39a6_11ec_8470_0242ac1c0002row0_col8{\n",
              "            background-color:  #f49a7b;\n",
              "            color:  #000000;\n",
              "        }#T_744b7354_39a6_11ec_8470_0242ac1c0002row0_col9,#T_744b7354_39a6_11ec_8470_0242ac1c0002row2_col8,#T_744b7354_39a6_11ec_8470_0242ac1c0002row8_col0{\n",
              "            background-color:  #f6a283;\n",
              "            color:  #000000;\n",
              "        }#T_744b7354_39a6_11ec_8470_0242ac1c0002row0_col10{\n",
              "            background-color:  #e4d9d2;\n",
              "            color:  #000000;\n",
              "        }#T_744b7354_39a6_11ec_8470_0242ac1c0002row0_col11,#T_744b7354_39a6_11ec_8470_0242ac1c0002row13_col9{\n",
              "            background-color:  #465ecf;\n",
              "            color:  #f1f1f1;\n",
              "        }#T_744b7354_39a6_11ec_8470_0242ac1c0002row0_col12{\n",
              "            background-color:  #f7b194;\n",
              "            color:  #000000;\n",
              "        }#T_744b7354_39a6_11ec_8470_0242ac1c0002row0_col13,#T_744b7354_39a6_11ec_8470_0242ac1c0002row9_col5{\n",
              "            background-color:  #7b9ff9;\n",
              "            color:  #000000;\n",
              "        }#T_744b7354_39a6_11ec_8470_0242ac1c0002row1_col0{\n",
              "            background-color:  #6485ec;\n",
              "            color:  #000000;\n",
              "        }#T_744b7354_39a6_11ec_8470_0242ac1c0002row1_col2,#T_744b7354_39a6_11ec_8470_0242ac1c0002row1_col6,#T_744b7354_39a6_11ec_8470_0242ac1c0002row8_col3{\n",
              "            background-color:  #5a78e4;\n",
              "            color:  #000000;\n",
              "        }#T_744b7354_39a6_11ec_8470_0242ac1c0002row1_col3{\n",
              "            background-color:  #4f69d9;\n",
              "            color:  #000000;\n",
              "        }#T_744b7354_39a6_11ec_8470_0242ac1c0002row1_col4,#T_744b7354_39a6_11ec_8470_0242ac1c0002row1_col9{\n",
              "            background-color:  #6788ee;\n",
              "            color:  #000000;\n",
              "        }#T_744b7354_39a6_11ec_8470_0242ac1c0002row1_col5,#T_744b7354_39a6_11ec_8470_0242ac1c0002row2_col0{\n",
              "            background-color:  #edd1c2;\n",
              "            color:  #000000;\n",
              "        }#T_744b7354_39a6_11ec_8470_0242ac1c0002row1_col7,#T_744b7354_39a6_11ec_8470_0242ac1c0002row9_col4,#T_744b7354_39a6_11ec_8470_0242ac1c0002row13_col5{\n",
              "            background-color:  #ec7f63;\n",
              "            color:  #000000;\n",
              "        }#T_744b7354_39a6_11ec_8470_0242ac1c0002row1_col8,#T_744b7354_39a6_11ec_8470_0242ac1c0002row5_col0{\n",
              "            background-color:  #6180e9;\n",
              "            color:  #000000;\n",
              "        }#T_744b7354_39a6_11ec_8470_0242ac1c0002row1_col10,#T_744b7354_39a6_11ec_8470_0242ac1c0002row9_col3,#T_744b7354_39a6_11ec_8470_0242ac1c0002row13_col8{\n",
              "            background-color:  #516ddb;\n",
              "            color:  #000000;\n",
              "        }#T_744b7354_39a6_11ec_8470_0242ac1c0002row1_col11{\n",
              "            background-color:  #c9d7f0;\n",
              "            color:  #000000;\n",
              "        }#T_744b7354_39a6_11ec_8470_0242ac1c0002row1_col12,#T_744b7354_39a6_11ec_8470_0242ac1c0002row5_col2,#T_744b7354_39a6_11ec_8470_0242ac1c0002row6_col3,#T_744b7354_39a6_11ec_8470_0242ac1c0002row10_col11{\n",
              "            background-color:  #7699f6;\n",
              "            color:  #000000;\n",
              "        }#T_744b7354_39a6_11ec_8470_0242ac1c0002row2_col1,#T_744b7354_39a6_11ec_8470_0242ac1c0002row7_col3{\n",
              "            background-color:  #4055c8;\n",
              "            color:  #f1f1f1;\n",
              "        }#T_744b7354_39a6_11ec_8470_0242ac1c0002row2_col3,#T_744b7354_39a6_11ec_8470_0242ac1c0002row8_col1{\n",
              "            background-color:  #6f92f3;\n",
              "            color:  #000000;\n",
              "        }#T_744b7354_39a6_11ec_8470_0242ac1c0002row2_col4{\n",
              "            background-color:  #e0654f;\n",
              "            color:  #000000;\n",
              "        }#T_744b7354_39a6_11ec_8470_0242ac1c0002row2_col5,#T_744b7354_39a6_11ec_8470_0242ac1c0002row7_col12{\n",
              "            background-color:  #6687ed;\n",
              "            color:  #000000;\n",
              "        }#T_744b7354_39a6_11ec_8470_0242ac1c0002row2_col6{\n",
              "            background-color:  #ee8669;\n",
              "            color:  #000000;\n",
              "        }#T_744b7354_39a6_11ec_8470_0242ac1c0002row2_col7,#T_744b7354_39a6_11ec_8470_0242ac1c0002row4_col1,#T_744b7354_39a6_11ec_8470_0242ac1c0002row11_col8{\n",
              "            background-color:  #445acc;\n",
              "            color:  #f1f1f1;\n",
              "        }#T_744b7354_39a6_11ec_8470_0242ac1c0002row2_col9{\n",
              "            background-color:  #ea7b60;\n",
              "            color:  #000000;\n",
              "        }#T_744b7354_39a6_11ec_8470_0242ac1c0002row2_col10,#T_744b7354_39a6_11ec_8470_0242ac1c0002row13_col1{\n",
              "            background-color:  #f1cdba;\n",
              "            color:  #000000;\n",
              "        }#T_744b7354_39a6_11ec_8470_0242ac1c0002row2_col11,#T_744b7354_39a6_11ec_8470_0242ac1c0002row11_col9,#T_744b7354_39a6_11ec_8470_0242ac1c0002row12_col3{\n",
              "            background-color:  #4c66d6;\n",
              "            color:  #000000;\n",
              "        }#T_744b7354_39a6_11ec_8470_0242ac1c0002row2_col12,#T_744b7354_39a6_11ec_8470_0242ac1c0002row6_col12,#T_744b7354_39a6_11ec_8470_0242ac1c0002row12_col6{\n",
              "            background-color:  #f29072;\n",
              "            color:  #000000;\n",
              "        }#T_744b7354_39a6_11ec_8470_0242ac1c0002row2_col13{\n",
              "            background-color:  #688aef;\n",
              "            color:  #000000;\n",
              "        }#T_744b7354_39a6_11ec_8470_0242ac1c0002row3_col0{\n",
              "            background-color:  #89acfd;\n",
              "            color:  #000000;\n",
              "        }#T_744b7354_39a6_11ec_8470_0242ac1c0002row3_col1{\n",
              "            background-color:  #aac7fd;\n",
              "            color:  #000000;\n",
              "        }#T_744b7354_39a6_11ec_8470_0242ac1c0002row3_col2{\n",
              "            background-color:  #cfdaea;\n",
              "            color:  #000000;\n",
              "        }#T_744b7354_39a6_11ec_8470_0242ac1c0002row3_col4{\n",
              "            background-color:  #d9dce1;\n",
              "            color:  #000000;\n",
              "        }#T_744b7354_39a6_11ec_8470_0242ac1c0002row3_col5{\n",
              "            background-color:  #cbd8ee;\n",
              "            color:  #000000;\n",
              "        }#T_744b7354_39a6_11ec_8470_0242ac1c0002row3_col6{\n",
              "            background-color:  #d7dce3;\n",
              "            color:  #000000;\n",
              "        }#T_744b7354_39a6_11ec_8470_0242ac1c0002row3_col7{\n",
              "            background-color:  #b9d0f9;\n",
              "            color:  #000000;\n",
              "        }#T_744b7354_39a6_11ec_8470_0242ac1c0002row3_col8,#T_744b7354_39a6_11ec_8470_0242ac1c0002row3_col9{\n",
              "            background-color:  #a7c5fe;\n",
              "            color:  #000000;\n",
              "        }#T_744b7354_39a6_11ec_8470_0242ac1c0002row3_col10{\n",
              "            background-color:  #8fb1fe;\n",
              "            color:  #000000;\n",
              "        }#T_744b7354_39a6_11ec_8470_0242ac1c0002row3_col11{\n",
              "            background-color:  #adc9fd;\n",
              "            color:  #000000;\n",
              "        }#T_744b7354_39a6_11ec_8470_0242ac1c0002row3_col12{\n",
              "            background-color:  #bed2f6;\n",
              "            color:  #000000;\n",
              "        }#T_744b7354_39a6_11ec_8470_0242ac1c0002row3_col13{\n",
              "            background-color:  #e3d9d3;\n",
              "            color:  #000000;\n",
              "        }#T_744b7354_39a6_11ec_8470_0242ac1c0002row4_col0,#T_744b7354_39a6_11ec_8470_0242ac1c0002row12_col10{\n",
              "            background-color:  #efcebd;\n",
              "            color:  #000000;\n",
              "        }#T_744b7354_39a6_11ec_8470_0242ac1c0002row4_col2{\n",
              "            background-color:  #e16751;\n",
              "            color:  #000000;\n",
              "        }#T_744b7354_39a6_11ec_8470_0242ac1c0002row4_col3,#T_744b7354_39a6_11ec_8470_0242ac1c0002row5_col3,#T_744b7354_39a6_11ec_8470_0242ac1c0002row5_col8{\n",
              "            background-color:  #779af7;\n",
              "            color:  #000000;\n",
              "        }#T_744b7354_39a6_11ec_8470_0242ac1c0002row4_col5,#T_744b7354_39a6_11ec_8470_0242ac1c0002row13_col4{\n",
              "            background-color:  #799cf8;\n",
              "            color:  #000000;\n",
              "        }#T_744b7354_39a6_11ec_8470_0242ac1c0002row4_col6{\n",
              "            background-color:  #e46e56;\n",
              "            color:  #000000;\n",
              "        }#T_744b7354_39a6_11ec_8470_0242ac1c0002row4_col7,#T_744b7354_39a6_11ec_8470_0242ac1c0002row6_col1,#T_744b7354_39a6_11ec_8470_0242ac1c0002row7_col2,#T_744b7354_39a6_11ec_8470_0242ac1c0002row7_col4,#T_744b7354_39a6_11ec_8470_0242ac1c0002row7_col6,#T_744b7354_39a6_11ec_8470_0242ac1c0002row7_col8,#T_744b7354_39a6_11ec_8470_0242ac1c0002row7_col9,#T_744b7354_39a6_11ec_8470_0242ac1c0002row8_col11,#T_744b7354_39a6_11ec_8470_0242ac1c0002row9_col11,#T_744b7354_39a6_11ec_8470_0242ac1c0002row10_col3,#T_744b7354_39a6_11ec_8470_0242ac1c0002row11_col0,#T_744b7354_39a6_11ec_8470_0242ac1c0002row12_col5,#T_744b7354_39a6_11ec_8470_0242ac1c0002row12_col13,#T_744b7354_39a6_11ec_8470_0242ac1c0002row13_col0,#T_744b7354_39a6_11ec_8470_0242ac1c0002row13_col10,#T_744b7354_39a6_11ec_8470_0242ac1c0002row13_col12{\n",
              "            background-color:  #3b4cc0;\n",
              "            color:  #f1f1f1;\n",
              "        }#T_744b7354_39a6_11ec_8470_0242ac1c0002row4_col8{\n",
              "            background-color:  #f59d7e;\n",
              "            color:  #000000;\n",
              "        }#T_744b7354_39a6_11ec_8470_0242ac1c0002row4_col9{\n",
              "            background-color:  #f08b6e;\n",
              "            color:  #000000;\n",
              "        }#T_744b7354_39a6_11ec_8470_0242ac1c0002row4_col10{\n",
              "            background-color:  #d3dbe7;\n",
              "            color:  #000000;\n",
              "        }#T_744b7354_39a6_11ec_8470_0242ac1c0002row4_col11{\n",
              "            background-color:  #485fd1;\n",
              "            color:  #f1f1f1;\n",
              "        }#T_744b7354_39a6_11ec_8470_0242ac1c0002row4_col12,#T_744b7354_39a6_11ec_8470_0242ac1c0002row8_col2{\n",
              "            background-color:  #f39475;\n",
              "            color:  #000000;\n",
              "        }#T_744b7354_39a6_11ec_8470_0242ac1c0002row4_col13{\n",
              "            background-color:  #7396f5;\n",
              "            color:  #000000;\n",
              "        }#T_744b7354_39a6_11ec_8470_0242ac1c0002row5_col1{\n",
              "            background-color:  #ebd3c6;\n",
              "            color:  #000000;\n",
              "        }#T_744b7354_39a6_11ec_8470_0242ac1c0002row5_col4,#T_744b7354_39a6_11ec_8470_0242ac1c0002row13_col3{\n",
              "            background-color:  #92b4fe;\n",
              "            color:  #000000;\n",
              "        }#T_744b7354_39a6_11ec_8470_0242ac1c0002row5_col6{\n",
              "            background-color:  #9bbcff;\n",
              "            color:  #000000;\n",
              "        }#T_744b7354_39a6_11ec_8470_0242ac1c0002row5_col7{\n",
              "            background-color:  #ead5c9;\n",
              "            color:  #000000;\n",
              "        }#T_744b7354_39a6_11ec_8470_0242ac1c0002row5_col9,#T_744b7354_39a6_11ec_8470_0242ac1c0002row10_col5{\n",
              "            background-color:  #6c8ff1;\n",
              "            color:  #000000;\n",
              "        }#T_744b7354_39a6_11ec_8470_0242ac1c0002row5_col10,#T_744b7354_39a6_11ec_8470_0242ac1c0002row12_col1{\n",
              "            background-color:  #5977e3;\n",
              "            color:  #000000;\n",
              "        }#T_744b7354_39a6_11ec_8470_0242ac1c0002row5_col11{\n",
              "            background-color:  #bfd3f6;\n",
              "            color:  #000000;\n",
              "        }#T_744b7354_39a6_11ec_8470_0242ac1c0002row5_col12{\n",
              "            background-color:  #506bda;\n",
              "            color:  #000000;\n",
              "        }#T_744b7354_39a6_11ec_8470_0242ac1c0002row5_col13{\n",
              "            background-color:  #e9785d;\n",
              "            color:  #000000;\n",
              "        }#T_744b7354_39a6_11ec_8470_0242ac1c0002row6_col0{\n",
              "            background-color:  #e5d8d1;\n",
              "            color:  #000000;\n",
              "        }#T_744b7354_39a6_11ec_8470_0242ac1c0002row6_col2{\n",
              "            background-color:  #ef886b;\n",
              "            color:  #000000;\n",
              "        }#T_744b7354_39a6_11ec_8470_0242ac1c0002row6_col4{\n",
              "            background-color:  #e36c55;\n",
              "            color:  #000000;\n",
              "        }#T_744b7354_39a6_11ec_8470_0242ac1c0002row6_col5{\n",
              "            background-color:  #86a9fc;\n",
              "            color:  #000000;\n",
              "        }#T_744b7354_39a6_11ec_8470_0242ac1c0002row6_col7{\n",
              "            background-color:  #3e51c5;\n",
              "            color:  #f1f1f1;\n",
              "        }#T_744b7354_39a6_11ec_8470_0242ac1c0002row6_col8{\n",
              "            background-color:  #f5c1a9;\n",
              "            color:  #000000;\n",
              "        }#T_744b7354_39a6_11ec_8470_0242ac1c0002row6_col9{\n",
              "            background-color:  #f7b497;\n",
              "            color:  #000000;\n",
              "        }#T_744b7354_39a6_11ec_8470_0242ac1c0002row6_col10,#T_744b7354_39a6_11ec_8470_0242ac1c0002row7_col11{\n",
              "            background-color:  #dfdbd9;\n",
              "            color:  #000000;\n",
              "        }#T_744b7354_39a6_11ec_8470_0242ac1c0002row6_col11{\n",
              "            background-color:  #5f7fe8;\n",
              "            color:  #000000;\n",
              "        }#T_744b7354_39a6_11ec_8470_0242ac1c0002row6_col13{\n",
              "            background-color:  #7ea1fa;\n",
              "            color:  #000000;\n",
              "        }#T_744b7354_39a6_11ec_8470_0242ac1c0002row7_col0{\n",
              "            background-color:  #3c4ec2;\n",
              "            color:  #f1f1f1;\n",
              "        }#T_744b7354_39a6_11ec_8470_0242ac1c0002row7_col1{\n",
              "            background-color:  #f08a6c;\n",
              "            color:  #000000;\n",
              "        }#T_744b7354_39a6_11ec_8470_0242ac1c0002row7_col5{\n",
              "            background-color:  #dedcdb;\n",
              "            color:  #000000;\n",
              "        }#T_744b7354_39a6_11ec_8470_0242ac1c0002row7_col10{\n",
              "            background-color:  #7597f6;\n",
              "            color:  #000000;\n",
              "        }#T_744b7354_39a6_11ec_8470_0242ac1c0002row7_col13{\n",
              "            background-color:  #edd2c3;\n",
              "            color:  #000000;\n",
              "        }#T_744b7354_39a6_11ec_8470_0242ac1c0002row8_col4{\n",
              "            background-color:  #f18d6f;\n",
              "            color:  #000000;\n",
              "        }#T_744b7354_39a6_11ec_8470_0242ac1c0002row8_col5{\n",
              "            background-color:  #8db0fe;\n",
              "            color:  #000000;\n",
              "        }#T_744b7354_39a6_11ec_8470_0242ac1c0002row8_col6{\n",
              "            background-color:  #f7b093;\n",
              "            color:  #000000;\n",
              "        }#T_744b7354_39a6_11ec_8470_0242ac1c0002row8_col7,#T_744b7354_39a6_11ec_8470_0242ac1c0002row9_col13,#T_744b7354_39a6_11ec_8470_0242ac1c0002row12_col7{\n",
              "            background-color:  #6b8df0;\n",
              "            color:  #000000;\n",
              "        }#T_744b7354_39a6_11ec_8470_0242ac1c0002row8_col9{\n",
              "            background-color:  #c83836;\n",
              "            color:  #f1f1f1;\n",
              "        }#T_744b7354_39a6_11ec_8470_0242ac1c0002row8_col10{\n",
              "            background-color:  #f6bea4;\n",
              "            color:  #000000;\n",
              "        }#T_744b7354_39a6_11ec_8470_0242ac1c0002row8_col12{\n",
              "            background-color:  #f7aa8c;\n",
              "            color:  #000000;\n",
              "        }#T_744b7354_39a6_11ec_8470_0242ac1c0002row8_col13,#T_744b7354_39a6_11ec_8470_0242ac1c0002row11_col2{\n",
              "            background-color:  #7da0f9;\n",
              "            color:  #000000;\n",
              "        }#T_744b7354_39a6_11ec_8470_0242ac1c0002row9_col0,#T_744b7354_39a6_11ec_8470_0242ac1c0002row12_col9{\n",
              "            background-color:  #f7ac8e;\n",
              "            color:  #000000;\n",
              "        }#T_744b7354_39a6_11ec_8470_0242ac1c0002row9_col1{\n",
              "            background-color:  #6e90f2;\n",
              "            color:  #000000;\n",
              "        }#T_744b7354_39a6_11ec_8470_0242ac1c0002row9_col2{\n",
              "            background-color:  #e67259;\n",
              "            color:  #000000;\n",
              "        }#T_744b7354_39a6_11ec_8470_0242ac1c0002row9_col6{\n",
              "            background-color:  #f7a688;\n",
              "            color:  #000000;\n",
              "        }#T_744b7354_39a6_11ec_8470_0242ac1c0002row9_col7,#T_744b7354_39a6_11ec_8470_0242ac1c0002row10_col13,#T_744b7354_39a6_11ec_8470_0242ac1c0002row13_col2{\n",
              "            background-color:  #6384eb;\n",
              "            color:  #000000;\n",
              "        }#T_744b7354_39a6_11ec_8470_0242ac1c0002row9_col8{\n",
              "            background-color:  #ca3b37;\n",
              "            color:  #f1f1f1;\n",
              "        }#T_744b7354_39a6_11ec_8470_0242ac1c0002row9_col10,#T_744b7354_39a6_11ec_8470_0242ac1c0002row10_col8{\n",
              "            background-color:  #f6bfa6;\n",
              "            color:  #000000;\n",
              "        }#T_744b7354_39a6_11ec_8470_0242ac1c0002row9_col12{\n",
              "            background-color:  #f59f80;\n",
              "            color:  #000000;\n",
              "        }#T_744b7354_39a6_11ec_8470_0242ac1c0002row10_col0{\n",
              "            background-color:  #dadce0;\n",
              "            color:  #000000;\n",
              "        }#T_744b7354_39a6_11ec_8470_0242ac1c0002row10_col1{\n",
              "            background-color:  #5e7de7;\n",
              "            color:  #000000;\n",
              "        }#T_744b7354_39a6_11ec_8470_0242ac1c0002row10_col2,#T_744b7354_39a6_11ec_8470_0242ac1c0002row10_col12{\n",
              "            background-color:  #f5c0a7;\n",
              "            color:  #000000;\n",
              "        }#T_744b7354_39a6_11ec_8470_0242ac1c0002row10_col4{\n",
              "            background-color:  #e7d7ce;\n",
              "            color:  #000000;\n",
              "        }#T_744b7354_39a6_11ec_8470_0242ac1c0002row10_col6,#T_744b7354_39a6_11ec_8470_0242ac1c0002row13_col7{\n",
              "            background-color:  #eed0c0;\n",
              "            color:  #000000;\n",
              "        }#T_744b7354_39a6_11ec_8470_0242ac1c0002row10_col7{\n",
              "            background-color:  #9fbfff;\n",
              "            color:  #000000;\n",
              "        }#T_744b7354_39a6_11ec_8470_0242ac1c0002row10_col9{\n",
              "            background-color:  #f6bda2;\n",
              "            color:  #000000;\n",
              "        }#T_744b7354_39a6_11ec_8470_0242ac1c0002row11_col1{\n",
              "            background-color:  #d6dce4;\n",
              "            color:  #000000;\n",
              "        }#T_744b7354_39a6_11ec_8470_0242ac1c0002row11_col3{\n",
              "            background-color:  #6a8bef;\n",
              "            color:  #000000;\n",
              "        }#T_744b7354_39a6_11ec_8470_0242ac1c0002row11_col5{\n",
              "            background-color:  #d2dbe8;\n",
              "            color:  #000000;\n",
              "        }#T_744b7354_39a6_11ec_8470_0242ac1c0002row11_col6{\n",
              "            background-color:  #94b6ff;\n",
              "            color:  #000000;\n",
              "        }#T_744b7354_39a6_11ec_8470_0242ac1c0002row11_col7{\n",
              "            background-color:  #f2cbb7;\n",
              "            color:  #000000;\n",
              "        }#T_744b7354_39a6_11ec_8470_0242ac1c0002row11_col12,#T_744b7354_39a6_11ec_8470_0242ac1c0002row13_col6{\n",
              "            background-color:  #80a3fa;\n",
              "            color:  #000000;\n",
              "        }#T_744b7354_39a6_11ec_8470_0242ac1c0002row11_col13{\n",
              "            background-color:  #f3c7b1;\n",
              "            color:  #000000;\n",
              "        }#T_744b7354_39a6_11ec_8470_0242ac1c0002row12_col0{\n",
              "            background-color:  #f2c9b4;\n",
              "            color:  #000000;\n",
              "        }#T_744b7354_39a6_11ec_8470_0242ac1c0002row12_col2,#T_744b7354_39a6_11ec_8470_0242ac1c0002row12_col4{\n",
              "            background-color:  #f29274;\n",
              "            color:  #000000;\n",
              "        }#T_744b7354_39a6_11ec_8470_0242ac1c0002row12_col8{\n",
              "            background-color:  #f7ba9f;\n",
              "            color:  #000000;\n",
              "        }#T_744b7354_39a6_11ec_8470_0242ac1c0002row12_col11{\n",
              "            background-color:  #4a63d3;\n",
              "            color:  #f1f1f1;\n",
              "        }#T_744b7354_39a6_11ec_8470_0242ac1c0002row13_col11{\n",
              "            background-color:  #e6d7cf;\n",
              "            color:  #000000;\n",
              "        }</style><table id=\"T_744b7354_39a6_11ec_8470_0242ac1c0002\" class=\"dataframe\"><thead>    <tr>        <th class=\"blank level0\" ></th>        <th class=\"col_heading level0 col0\" >CRIM</th>        <th class=\"col_heading level0 col1\" >ZN</th>        <th class=\"col_heading level0 col2\" >INDUS</th>        <th class=\"col_heading level0 col3\" >CHAS</th>        <th class=\"col_heading level0 col4\" >NOX</th>        <th class=\"col_heading level0 col5\" >RM</th>        <th class=\"col_heading level0 col6\" >AGE</th>        <th class=\"col_heading level0 col7\" >DIS</th>        <th class=\"col_heading level0 col8\" >RAD</th>        <th class=\"col_heading level0 col9\" >TAX</th>        <th class=\"col_heading level0 col10\" >PTRATIO</th>        <th class=\"col_heading level0 col11\" >B</th>        <th class=\"col_heading level0 col12\" >LSTAT</th>        <th class=\"col_heading level0 col13\" >Price</th>    </tr></thead><tbody>\n",
              "                <tr>\n",
              "                        <th id=\"T_744b7354_39a6_11ec_8470_0242ac1c0002level0_row0\" class=\"row_heading level0 row0\" >CRIM</th>\n",
              "                        <td id=\"T_744b7354_39a6_11ec_8470_0242ac1c0002row0_col0\" class=\"data row0 col0\" >1.000000</td>\n",
              "                        <td id=\"T_744b7354_39a6_11ec_8470_0242ac1c0002row0_col1\" class=\"data row0 col1\" >-0.200469</td>\n",
              "                        <td id=\"T_744b7354_39a6_11ec_8470_0242ac1c0002row0_col2\" class=\"data row0 col2\" >0.406583</td>\n",
              "                        <td id=\"T_744b7354_39a6_11ec_8470_0242ac1c0002row0_col3\" class=\"data row0 col3\" >-0.055892</td>\n",
              "                        <td id=\"T_744b7354_39a6_11ec_8470_0242ac1c0002row0_col4\" class=\"data row0 col4\" >0.420972</td>\n",
              "                        <td id=\"T_744b7354_39a6_11ec_8470_0242ac1c0002row0_col5\" class=\"data row0 col5\" >-0.219247</td>\n",
              "                        <td id=\"T_744b7354_39a6_11ec_8470_0242ac1c0002row0_col6\" class=\"data row0 col6\" >0.352734</td>\n",
              "                        <td id=\"T_744b7354_39a6_11ec_8470_0242ac1c0002row0_col7\" class=\"data row0 col7\" >-0.379670</td>\n",
              "                        <td id=\"T_744b7354_39a6_11ec_8470_0242ac1c0002row0_col8\" class=\"data row0 col8\" >0.625505</td>\n",
              "                        <td id=\"T_744b7354_39a6_11ec_8470_0242ac1c0002row0_col9\" class=\"data row0 col9\" >0.582764</td>\n",
              "                        <td id=\"T_744b7354_39a6_11ec_8470_0242ac1c0002row0_col10\" class=\"data row0 col10\" >0.289946</td>\n",
              "                        <td id=\"T_744b7354_39a6_11ec_8470_0242ac1c0002row0_col11\" class=\"data row0 col11\" >-0.385064</td>\n",
              "                        <td id=\"T_744b7354_39a6_11ec_8470_0242ac1c0002row0_col12\" class=\"data row0 col12\" >0.455621</td>\n",
              "                        <td id=\"T_744b7354_39a6_11ec_8470_0242ac1c0002row0_col13\" class=\"data row0 col13\" >-0.388305</td>\n",
              "            </tr>\n",
              "            <tr>\n",
              "                        <th id=\"T_744b7354_39a6_11ec_8470_0242ac1c0002level0_row1\" class=\"row_heading level0 row1\" >ZN</th>\n",
              "                        <td id=\"T_744b7354_39a6_11ec_8470_0242ac1c0002row1_col0\" class=\"data row1 col0\" >-0.200469</td>\n",
              "                        <td id=\"T_744b7354_39a6_11ec_8470_0242ac1c0002row1_col1\" class=\"data row1 col1\" >1.000000</td>\n",
              "                        <td id=\"T_744b7354_39a6_11ec_8470_0242ac1c0002row1_col2\" class=\"data row1 col2\" >-0.533828</td>\n",
              "                        <td id=\"T_744b7354_39a6_11ec_8470_0242ac1c0002row1_col3\" class=\"data row1 col3\" >-0.042697</td>\n",
              "                        <td id=\"T_744b7354_39a6_11ec_8470_0242ac1c0002row1_col4\" class=\"data row1 col4\" >-0.516604</td>\n",
              "                        <td id=\"T_744b7354_39a6_11ec_8470_0242ac1c0002row1_col5\" class=\"data row1 col5\" >0.311991</td>\n",
              "                        <td id=\"T_744b7354_39a6_11ec_8470_0242ac1c0002row1_col6\" class=\"data row1 col6\" >-0.569537</td>\n",
              "                        <td id=\"T_744b7354_39a6_11ec_8470_0242ac1c0002row1_col7\" class=\"data row1 col7\" >0.664408</td>\n",
              "                        <td id=\"T_744b7354_39a6_11ec_8470_0242ac1c0002row1_col8\" class=\"data row1 col8\" >-0.311948</td>\n",
              "                        <td id=\"T_744b7354_39a6_11ec_8470_0242ac1c0002row1_col9\" class=\"data row1 col9\" >-0.314563</td>\n",
              "                        <td id=\"T_744b7354_39a6_11ec_8470_0242ac1c0002row1_col10\" class=\"data row1 col10\" >-0.391679</td>\n",
              "                        <td id=\"T_744b7354_39a6_11ec_8470_0242ac1c0002row1_col11\" class=\"data row1 col11\" >0.175520</td>\n",
              "                        <td id=\"T_744b7354_39a6_11ec_8470_0242ac1c0002row1_col12\" class=\"data row1 col12\" >-0.412995</td>\n",
              "                        <td id=\"T_744b7354_39a6_11ec_8470_0242ac1c0002row1_col13\" class=\"data row1 col13\" >0.360445</td>\n",
              "            </tr>\n",
              "            <tr>\n",
              "                        <th id=\"T_744b7354_39a6_11ec_8470_0242ac1c0002level0_row2\" class=\"row_heading level0 row2\" >INDUS</th>\n",
              "                        <td id=\"T_744b7354_39a6_11ec_8470_0242ac1c0002row2_col0\" class=\"data row2 col0\" >0.406583</td>\n",
              "                        <td id=\"T_744b7354_39a6_11ec_8470_0242ac1c0002row2_col1\" class=\"data row2 col1\" >-0.533828</td>\n",
              "                        <td id=\"T_744b7354_39a6_11ec_8470_0242ac1c0002row2_col2\" class=\"data row2 col2\" >1.000000</td>\n",
              "                        <td id=\"T_744b7354_39a6_11ec_8470_0242ac1c0002row2_col3\" class=\"data row2 col3\" >0.062938</td>\n",
              "                        <td id=\"T_744b7354_39a6_11ec_8470_0242ac1c0002row2_col4\" class=\"data row2 col4\" >0.763651</td>\n",
              "                        <td id=\"T_744b7354_39a6_11ec_8470_0242ac1c0002row2_col5\" class=\"data row2 col5\" >-0.391676</td>\n",
              "                        <td id=\"T_744b7354_39a6_11ec_8470_0242ac1c0002row2_col6\" class=\"data row2 col6\" >0.644779</td>\n",
              "                        <td id=\"T_744b7354_39a6_11ec_8470_0242ac1c0002row2_col7\" class=\"data row2 col7\" >-0.708027</td>\n",
              "                        <td id=\"T_744b7354_39a6_11ec_8470_0242ac1c0002row2_col8\" class=\"data row2 col8\" >0.595129</td>\n",
              "                        <td id=\"T_744b7354_39a6_11ec_8470_0242ac1c0002row2_col9\" class=\"data row2 col9\" >0.720760</td>\n",
              "                        <td id=\"T_744b7354_39a6_11ec_8470_0242ac1c0002row2_col10\" class=\"data row2 col10\" >0.383248</td>\n",
              "                        <td id=\"T_744b7354_39a6_11ec_8470_0242ac1c0002row2_col11\" class=\"data row2 col11\" >-0.356977</td>\n",
              "                        <td id=\"T_744b7354_39a6_11ec_8470_0242ac1c0002row2_col12\" class=\"data row2 col12\" >0.603800</td>\n",
              "                        <td id=\"T_744b7354_39a6_11ec_8470_0242ac1c0002row2_col13\" class=\"data row2 col13\" >-0.483725</td>\n",
              "            </tr>\n",
              "            <tr>\n",
              "                        <th id=\"T_744b7354_39a6_11ec_8470_0242ac1c0002level0_row3\" class=\"row_heading level0 row3\" >CHAS</th>\n",
              "                        <td id=\"T_744b7354_39a6_11ec_8470_0242ac1c0002row3_col0\" class=\"data row3 col0\" >-0.055892</td>\n",
              "                        <td id=\"T_744b7354_39a6_11ec_8470_0242ac1c0002row3_col1\" class=\"data row3 col1\" >-0.042697</td>\n",
              "                        <td id=\"T_744b7354_39a6_11ec_8470_0242ac1c0002row3_col2\" class=\"data row3 col2\" >0.062938</td>\n",
              "                        <td id=\"T_744b7354_39a6_11ec_8470_0242ac1c0002row3_col3\" class=\"data row3 col3\" >1.000000</td>\n",
              "                        <td id=\"T_744b7354_39a6_11ec_8470_0242ac1c0002row3_col4\" class=\"data row3 col4\" >0.091203</td>\n",
              "                        <td id=\"T_744b7354_39a6_11ec_8470_0242ac1c0002row3_col5\" class=\"data row3 col5\" >0.091251</td>\n",
              "                        <td id=\"T_744b7354_39a6_11ec_8470_0242ac1c0002row3_col6\" class=\"data row3 col6\" >0.086518</td>\n",
              "                        <td id=\"T_744b7354_39a6_11ec_8470_0242ac1c0002row3_col7\" class=\"data row3 col7\" >-0.099176</td>\n",
              "                        <td id=\"T_744b7354_39a6_11ec_8470_0242ac1c0002row3_col8\" class=\"data row3 col8\" >-0.007368</td>\n",
              "                        <td id=\"T_744b7354_39a6_11ec_8470_0242ac1c0002row3_col9\" class=\"data row3 col9\" >-0.035587</td>\n",
              "                        <td id=\"T_744b7354_39a6_11ec_8470_0242ac1c0002row3_col10\" class=\"data row3 col10\" >-0.121515</td>\n",
              "                        <td id=\"T_744b7354_39a6_11ec_8470_0242ac1c0002row3_col11\" class=\"data row3 col11\" >0.048788</td>\n",
              "                        <td id=\"T_744b7354_39a6_11ec_8470_0242ac1c0002row3_col12\" class=\"data row3 col12\" >-0.053929</td>\n",
              "                        <td id=\"T_744b7354_39a6_11ec_8470_0242ac1c0002row3_col13\" class=\"data row3 col13\" >0.175260</td>\n",
              "            </tr>\n",
              "            <tr>\n",
              "                        <th id=\"T_744b7354_39a6_11ec_8470_0242ac1c0002level0_row4\" class=\"row_heading level0 row4\" >NOX</th>\n",
              "                        <td id=\"T_744b7354_39a6_11ec_8470_0242ac1c0002row4_col0\" class=\"data row4 col0\" >0.420972</td>\n",
              "                        <td id=\"T_744b7354_39a6_11ec_8470_0242ac1c0002row4_col1\" class=\"data row4 col1\" >-0.516604</td>\n",
              "                        <td id=\"T_744b7354_39a6_11ec_8470_0242ac1c0002row4_col2\" class=\"data row4 col2\" >0.763651</td>\n",
              "                        <td id=\"T_744b7354_39a6_11ec_8470_0242ac1c0002row4_col3\" class=\"data row4 col3\" >0.091203</td>\n",
              "                        <td id=\"T_744b7354_39a6_11ec_8470_0242ac1c0002row4_col4\" class=\"data row4 col4\" >1.000000</td>\n",
              "                        <td id=\"T_744b7354_39a6_11ec_8470_0242ac1c0002row4_col5\" class=\"data row4 col5\" >-0.302188</td>\n",
              "                        <td id=\"T_744b7354_39a6_11ec_8470_0242ac1c0002row4_col6\" class=\"data row4 col6\" >0.731470</td>\n",
              "                        <td id=\"T_744b7354_39a6_11ec_8470_0242ac1c0002row4_col7\" class=\"data row4 col7\" >-0.769230</td>\n",
              "                        <td id=\"T_744b7354_39a6_11ec_8470_0242ac1c0002row4_col8\" class=\"data row4 col8\" >0.611441</td>\n",
              "                        <td id=\"T_744b7354_39a6_11ec_8470_0242ac1c0002row4_col9\" class=\"data row4 col9\" >0.668023</td>\n",
              "                        <td id=\"T_744b7354_39a6_11ec_8470_0242ac1c0002row4_col10\" class=\"data row4 col10\" >0.188933</td>\n",
              "                        <td id=\"T_744b7354_39a6_11ec_8470_0242ac1c0002row4_col11\" class=\"data row4 col11\" >-0.380051</td>\n",
              "                        <td id=\"T_744b7354_39a6_11ec_8470_0242ac1c0002row4_col12\" class=\"data row4 col12\" >0.590879</td>\n",
              "                        <td id=\"T_744b7354_39a6_11ec_8470_0242ac1c0002row4_col13\" class=\"data row4 col13\" >-0.427321</td>\n",
              "            </tr>\n",
              "            <tr>\n",
              "                        <th id=\"T_744b7354_39a6_11ec_8470_0242ac1c0002level0_row5\" class=\"row_heading level0 row5\" >RM</th>\n",
              "                        <td id=\"T_744b7354_39a6_11ec_8470_0242ac1c0002row5_col0\" class=\"data row5 col0\" >-0.219247</td>\n",
              "                        <td id=\"T_744b7354_39a6_11ec_8470_0242ac1c0002row5_col1\" class=\"data row5 col1\" >0.311991</td>\n",
              "                        <td id=\"T_744b7354_39a6_11ec_8470_0242ac1c0002row5_col2\" class=\"data row5 col2\" >-0.391676</td>\n",
              "                        <td id=\"T_744b7354_39a6_11ec_8470_0242ac1c0002row5_col3\" class=\"data row5 col3\" >0.091251</td>\n",
              "                        <td id=\"T_744b7354_39a6_11ec_8470_0242ac1c0002row5_col4\" class=\"data row5 col4\" >-0.302188</td>\n",
              "                        <td id=\"T_744b7354_39a6_11ec_8470_0242ac1c0002row5_col5\" class=\"data row5 col5\" >1.000000</td>\n",
              "                        <td id=\"T_744b7354_39a6_11ec_8470_0242ac1c0002row5_col6\" class=\"data row5 col6\" >-0.240265</td>\n",
              "                        <td id=\"T_744b7354_39a6_11ec_8470_0242ac1c0002row5_col7\" class=\"data row5 col7\" >0.205246</td>\n",
              "                        <td id=\"T_744b7354_39a6_11ec_8470_0242ac1c0002row5_col8\" class=\"data row5 col8\" >-0.209847</td>\n",
              "                        <td id=\"T_744b7354_39a6_11ec_8470_0242ac1c0002row5_col9\" class=\"data row5 col9\" >-0.292048</td>\n",
              "                        <td id=\"T_744b7354_39a6_11ec_8470_0242ac1c0002row5_col10\" class=\"data row5 col10\" >-0.355501</td>\n",
              "                        <td id=\"T_744b7354_39a6_11ec_8470_0242ac1c0002row5_col11\" class=\"data row5 col11\" >0.128069</td>\n",
              "                        <td id=\"T_744b7354_39a6_11ec_8470_0242ac1c0002row5_col12\" class=\"data row5 col12\" >-0.613808</td>\n",
              "                        <td id=\"T_744b7354_39a6_11ec_8470_0242ac1c0002row5_col13\" class=\"data row5 col13\" >0.695360</td>\n",
              "            </tr>\n",
              "            <tr>\n",
              "                        <th id=\"T_744b7354_39a6_11ec_8470_0242ac1c0002level0_row6\" class=\"row_heading level0 row6\" >AGE</th>\n",
              "                        <td id=\"T_744b7354_39a6_11ec_8470_0242ac1c0002row6_col0\" class=\"data row6 col0\" >0.352734</td>\n",
              "                        <td id=\"T_744b7354_39a6_11ec_8470_0242ac1c0002row6_col1\" class=\"data row6 col1\" >-0.569537</td>\n",
              "                        <td id=\"T_744b7354_39a6_11ec_8470_0242ac1c0002row6_col2\" class=\"data row6 col2\" >0.644779</td>\n",
              "                        <td id=\"T_744b7354_39a6_11ec_8470_0242ac1c0002row6_col3\" class=\"data row6 col3\" >0.086518</td>\n",
              "                        <td id=\"T_744b7354_39a6_11ec_8470_0242ac1c0002row6_col4\" class=\"data row6 col4\" >0.731470</td>\n",
              "                        <td id=\"T_744b7354_39a6_11ec_8470_0242ac1c0002row6_col5\" class=\"data row6 col5\" >-0.240265</td>\n",
              "                        <td id=\"T_744b7354_39a6_11ec_8470_0242ac1c0002row6_col6\" class=\"data row6 col6\" >1.000000</td>\n",
              "                        <td id=\"T_744b7354_39a6_11ec_8470_0242ac1c0002row6_col7\" class=\"data row6 col7\" >-0.747881</td>\n",
              "                        <td id=\"T_744b7354_39a6_11ec_8470_0242ac1c0002row6_col8\" class=\"data row6 col8\" >0.456022</td>\n",
              "                        <td id=\"T_744b7354_39a6_11ec_8470_0242ac1c0002row6_col9\" class=\"data row6 col9\" >0.506456</td>\n",
              "                        <td id=\"T_744b7354_39a6_11ec_8470_0242ac1c0002row6_col10\" class=\"data row6 col10\" >0.261515</td>\n",
              "                        <td id=\"T_744b7354_39a6_11ec_8470_0242ac1c0002row6_col11\" class=\"data row6 col11\" >-0.273534</td>\n",
              "                        <td id=\"T_744b7354_39a6_11ec_8470_0242ac1c0002row6_col12\" class=\"data row6 col12\" >0.602339</td>\n",
              "                        <td id=\"T_744b7354_39a6_11ec_8470_0242ac1c0002row6_col13\" class=\"data row6 col13\" >-0.376955</td>\n",
              "            </tr>\n",
              "            <tr>\n",
              "                        <th id=\"T_744b7354_39a6_11ec_8470_0242ac1c0002level0_row7\" class=\"row_heading level0 row7\" >DIS</th>\n",
              "                        <td id=\"T_744b7354_39a6_11ec_8470_0242ac1c0002row7_col0\" class=\"data row7 col0\" >-0.379670</td>\n",
              "                        <td id=\"T_744b7354_39a6_11ec_8470_0242ac1c0002row7_col1\" class=\"data row7 col1\" >0.664408</td>\n",
              "                        <td id=\"T_744b7354_39a6_11ec_8470_0242ac1c0002row7_col2\" class=\"data row7 col2\" >-0.708027</td>\n",
              "                        <td id=\"T_744b7354_39a6_11ec_8470_0242ac1c0002row7_col3\" class=\"data row7 col3\" >-0.099176</td>\n",
              "                        <td id=\"T_744b7354_39a6_11ec_8470_0242ac1c0002row7_col4\" class=\"data row7 col4\" >-0.769230</td>\n",
              "                        <td id=\"T_744b7354_39a6_11ec_8470_0242ac1c0002row7_col5\" class=\"data row7 col5\" >0.205246</td>\n",
              "                        <td id=\"T_744b7354_39a6_11ec_8470_0242ac1c0002row7_col6\" class=\"data row7 col6\" >-0.747881</td>\n",
              "                        <td id=\"T_744b7354_39a6_11ec_8470_0242ac1c0002row7_col7\" class=\"data row7 col7\" >1.000000</td>\n",
              "                        <td id=\"T_744b7354_39a6_11ec_8470_0242ac1c0002row7_col8\" class=\"data row7 col8\" >-0.494588</td>\n",
              "                        <td id=\"T_744b7354_39a6_11ec_8470_0242ac1c0002row7_col9\" class=\"data row7 col9\" >-0.534432</td>\n",
              "                        <td id=\"T_744b7354_39a6_11ec_8470_0242ac1c0002row7_col10\" class=\"data row7 col10\" >-0.232471</td>\n",
              "                        <td id=\"T_744b7354_39a6_11ec_8470_0242ac1c0002row7_col11\" class=\"data row7 col11\" >0.291512</td>\n",
              "                        <td id=\"T_744b7354_39a6_11ec_8470_0242ac1c0002row7_col12\" class=\"data row7 col12\" >-0.496996</td>\n",
              "                        <td id=\"T_744b7354_39a6_11ec_8470_0242ac1c0002row7_col13\" class=\"data row7 col13\" >0.249929</td>\n",
              "            </tr>\n",
              "            <tr>\n",
              "                        <th id=\"T_744b7354_39a6_11ec_8470_0242ac1c0002level0_row8\" class=\"row_heading level0 row8\" >RAD</th>\n",
              "                        <td id=\"T_744b7354_39a6_11ec_8470_0242ac1c0002row8_col0\" class=\"data row8 col0\" >0.625505</td>\n",
              "                        <td id=\"T_744b7354_39a6_11ec_8470_0242ac1c0002row8_col1\" class=\"data row8 col1\" >-0.311948</td>\n",
              "                        <td id=\"T_744b7354_39a6_11ec_8470_0242ac1c0002row8_col2\" class=\"data row8 col2\" >0.595129</td>\n",
              "                        <td id=\"T_744b7354_39a6_11ec_8470_0242ac1c0002row8_col3\" class=\"data row8 col3\" >-0.007368</td>\n",
              "                        <td id=\"T_744b7354_39a6_11ec_8470_0242ac1c0002row8_col4\" class=\"data row8 col4\" >0.611441</td>\n",
              "                        <td id=\"T_744b7354_39a6_11ec_8470_0242ac1c0002row8_col5\" class=\"data row8 col5\" >-0.209847</td>\n",
              "                        <td id=\"T_744b7354_39a6_11ec_8470_0242ac1c0002row8_col6\" class=\"data row8 col6\" >0.456022</td>\n",
              "                        <td id=\"T_744b7354_39a6_11ec_8470_0242ac1c0002row8_col7\" class=\"data row8 col7\" >-0.494588</td>\n",
              "                        <td id=\"T_744b7354_39a6_11ec_8470_0242ac1c0002row8_col8\" class=\"data row8 col8\" >1.000000</td>\n",
              "                        <td id=\"T_744b7354_39a6_11ec_8470_0242ac1c0002row8_col9\" class=\"data row8 col9\" >0.910228</td>\n",
              "                        <td id=\"T_744b7354_39a6_11ec_8470_0242ac1c0002row8_col10\" class=\"data row8 col10\" >0.464741</td>\n",
              "                        <td id=\"T_744b7354_39a6_11ec_8470_0242ac1c0002row8_col11\" class=\"data row8 col11\" >-0.444413</td>\n",
              "                        <td id=\"T_744b7354_39a6_11ec_8470_0242ac1c0002row8_col12\" class=\"data row8 col12\" >0.488676</td>\n",
              "                        <td id=\"T_744b7354_39a6_11ec_8470_0242ac1c0002row8_col13\" class=\"data row8 col13\" >-0.381626</td>\n",
              "            </tr>\n",
              "            <tr>\n",
              "                        <th id=\"T_744b7354_39a6_11ec_8470_0242ac1c0002level0_row9\" class=\"row_heading level0 row9\" >TAX</th>\n",
              "                        <td id=\"T_744b7354_39a6_11ec_8470_0242ac1c0002row9_col0\" class=\"data row9 col0\" >0.582764</td>\n",
              "                        <td id=\"T_744b7354_39a6_11ec_8470_0242ac1c0002row9_col1\" class=\"data row9 col1\" >-0.314563</td>\n",
              "                        <td id=\"T_744b7354_39a6_11ec_8470_0242ac1c0002row9_col2\" class=\"data row9 col2\" >0.720760</td>\n",
              "                        <td id=\"T_744b7354_39a6_11ec_8470_0242ac1c0002row9_col3\" class=\"data row9 col3\" >-0.035587</td>\n",
              "                        <td id=\"T_744b7354_39a6_11ec_8470_0242ac1c0002row9_col4\" class=\"data row9 col4\" >0.668023</td>\n",
              "                        <td id=\"T_744b7354_39a6_11ec_8470_0242ac1c0002row9_col5\" class=\"data row9 col5\" >-0.292048</td>\n",
              "                        <td id=\"T_744b7354_39a6_11ec_8470_0242ac1c0002row9_col6\" class=\"data row9 col6\" >0.506456</td>\n",
              "                        <td id=\"T_744b7354_39a6_11ec_8470_0242ac1c0002row9_col7\" class=\"data row9 col7\" >-0.534432</td>\n",
              "                        <td id=\"T_744b7354_39a6_11ec_8470_0242ac1c0002row9_col8\" class=\"data row9 col8\" >0.910228</td>\n",
              "                        <td id=\"T_744b7354_39a6_11ec_8470_0242ac1c0002row9_col9\" class=\"data row9 col9\" >1.000000</td>\n",
              "                        <td id=\"T_744b7354_39a6_11ec_8470_0242ac1c0002row9_col10\" class=\"data row9 col10\" >0.460853</td>\n",
              "                        <td id=\"T_744b7354_39a6_11ec_8470_0242ac1c0002row9_col11\" class=\"data row9 col11\" >-0.441808</td>\n",
              "                        <td id=\"T_744b7354_39a6_11ec_8470_0242ac1c0002row9_col12\" class=\"data row9 col12\" >0.543993</td>\n",
              "                        <td id=\"T_744b7354_39a6_11ec_8470_0242ac1c0002row9_col13\" class=\"data row9 col13\" >-0.468536</td>\n",
              "            </tr>\n",
              "            <tr>\n",
              "                        <th id=\"T_744b7354_39a6_11ec_8470_0242ac1c0002level0_row10\" class=\"row_heading level0 row10\" >PTRATIO</th>\n",
              "                        <td id=\"T_744b7354_39a6_11ec_8470_0242ac1c0002row10_col0\" class=\"data row10 col0\" >0.289946</td>\n",
              "                        <td id=\"T_744b7354_39a6_11ec_8470_0242ac1c0002row10_col1\" class=\"data row10 col1\" >-0.391679</td>\n",
              "                        <td id=\"T_744b7354_39a6_11ec_8470_0242ac1c0002row10_col2\" class=\"data row10 col2\" >0.383248</td>\n",
              "                        <td id=\"T_744b7354_39a6_11ec_8470_0242ac1c0002row10_col3\" class=\"data row10 col3\" >-0.121515</td>\n",
              "                        <td id=\"T_744b7354_39a6_11ec_8470_0242ac1c0002row10_col4\" class=\"data row10 col4\" >0.188933</td>\n",
              "                        <td id=\"T_744b7354_39a6_11ec_8470_0242ac1c0002row10_col5\" class=\"data row10 col5\" >-0.355501</td>\n",
              "                        <td id=\"T_744b7354_39a6_11ec_8470_0242ac1c0002row10_col6\" class=\"data row10 col6\" >0.261515</td>\n",
              "                        <td id=\"T_744b7354_39a6_11ec_8470_0242ac1c0002row10_col7\" class=\"data row10 col7\" >-0.232471</td>\n",
              "                        <td id=\"T_744b7354_39a6_11ec_8470_0242ac1c0002row10_col8\" class=\"data row10 col8\" >0.464741</td>\n",
              "                        <td id=\"T_744b7354_39a6_11ec_8470_0242ac1c0002row10_col9\" class=\"data row10 col9\" >0.460853</td>\n",
              "                        <td id=\"T_744b7354_39a6_11ec_8470_0242ac1c0002row10_col10\" class=\"data row10 col10\" >1.000000</td>\n",
              "                        <td id=\"T_744b7354_39a6_11ec_8470_0242ac1c0002row10_col11\" class=\"data row10 col11\" >-0.177383</td>\n",
              "                        <td id=\"T_744b7354_39a6_11ec_8470_0242ac1c0002row10_col12\" class=\"data row10 col12\" >0.374044</td>\n",
              "                        <td id=\"T_744b7354_39a6_11ec_8470_0242ac1c0002row10_col13\" class=\"data row10 col13\" >-0.507787</td>\n",
              "            </tr>\n",
              "            <tr>\n",
              "                        <th id=\"T_744b7354_39a6_11ec_8470_0242ac1c0002level0_row11\" class=\"row_heading level0 row11\" >B</th>\n",
              "                        <td id=\"T_744b7354_39a6_11ec_8470_0242ac1c0002row11_col0\" class=\"data row11 col0\" >-0.385064</td>\n",
              "                        <td id=\"T_744b7354_39a6_11ec_8470_0242ac1c0002row11_col1\" class=\"data row11 col1\" >0.175520</td>\n",
              "                        <td id=\"T_744b7354_39a6_11ec_8470_0242ac1c0002row11_col2\" class=\"data row11 col2\" >-0.356977</td>\n",
              "                        <td id=\"T_744b7354_39a6_11ec_8470_0242ac1c0002row11_col3\" class=\"data row11 col3\" >0.048788</td>\n",
              "                        <td id=\"T_744b7354_39a6_11ec_8470_0242ac1c0002row11_col4\" class=\"data row11 col4\" >-0.380051</td>\n",
              "                        <td id=\"T_744b7354_39a6_11ec_8470_0242ac1c0002row11_col5\" class=\"data row11 col5\" >0.128069</td>\n",
              "                        <td id=\"T_744b7354_39a6_11ec_8470_0242ac1c0002row11_col6\" class=\"data row11 col6\" >-0.273534</td>\n",
              "                        <td id=\"T_744b7354_39a6_11ec_8470_0242ac1c0002row11_col7\" class=\"data row11 col7\" >0.291512</td>\n",
              "                        <td id=\"T_744b7354_39a6_11ec_8470_0242ac1c0002row11_col8\" class=\"data row11 col8\" >-0.444413</td>\n",
              "                        <td id=\"T_744b7354_39a6_11ec_8470_0242ac1c0002row11_col9\" class=\"data row11 col9\" >-0.441808</td>\n",
              "                        <td id=\"T_744b7354_39a6_11ec_8470_0242ac1c0002row11_col10\" class=\"data row11 col10\" >-0.177383</td>\n",
              "                        <td id=\"T_744b7354_39a6_11ec_8470_0242ac1c0002row11_col11\" class=\"data row11 col11\" >1.000000</td>\n",
              "                        <td id=\"T_744b7354_39a6_11ec_8470_0242ac1c0002row11_col12\" class=\"data row11 col12\" >-0.366087</td>\n",
              "                        <td id=\"T_744b7354_39a6_11ec_8470_0242ac1c0002row11_col13\" class=\"data row11 col13\" >0.333461</td>\n",
              "            </tr>\n",
              "            <tr>\n",
              "                        <th id=\"T_744b7354_39a6_11ec_8470_0242ac1c0002level0_row12\" class=\"row_heading level0 row12\" >LSTAT</th>\n",
              "                        <td id=\"T_744b7354_39a6_11ec_8470_0242ac1c0002row12_col0\" class=\"data row12 col0\" >0.455621</td>\n",
              "                        <td id=\"T_744b7354_39a6_11ec_8470_0242ac1c0002row12_col1\" class=\"data row12 col1\" >-0.412995</td>\n",
              "                        <td id=\"T_744b7354_39a6_11ec_8470_0242ac1c0002row12_col2\" class=\"data row12 col2\" >0.603800</td>\n",
              "                        <td id=\"T_744b7354_39a6_11ec_8470_0242ac1c0002row12_col3\" class=\"data row12 col3\" >-0.053929</td>\n",
              "                        <td id=\"T_744b7354_39a6_11ec_8470_0242ac1c0002row12_col4\" class=\"data row12 col4\" >0.590879</td>\n",
              "                        <td id=\"T_744b7354_39a6_11ec_8470_0242ac1c0002row12_col5\" class=\"data row12 col5\" >-0.613808</td>\n",
              "                        <td id=\"T_744b7354_39a6_11ec_8470_0242ac1c0002row12_col6\" class=\"data row12 col6\" >0.602339</td>\n",
              "                        <td id=\"T_744b7354_39a6_11ec_8470_0242ac1c0002row12_col7\" class=\"data row12 col7\" >-0.496996</td>\n",
              "                        <td id=\"T_744b7354_39a6_11ec_8470_0242ac1c0002row12_col8\" class=\"data row12 col8\" >0.488676</td>\n",
              "                        <td id=\"T_744b7354_39a6_11ec_8470_0242ac1c0002row12_col9\" class=\"data row12 col9\" >0.543993</td>\n",
              "                        <td id=\"T_744b7354_39a6_11ec_8470_0242ac1c0002row12_col10\" class=\"data row12 col10\" >0.374044</td>\n",
              "                        <td id=\"T_744b7354_39a6_11ec_8470_0242ac1c0002row12_col11\" class=\"data row12 col11\" >-0.366087</td>\n",
              "                        <td id=\"T_744b7354_39a6_11ec_8470_0242ac1c0002row12_col12\" class=\"data row12 col12\" >1.000000</td>\n",
              "                        <td id=\"T_744b7354_39a6_11ec_8470_0242ac1c0002row12_col13\" class=\"data row12 col13\" >-0.737663</td>\n",
              "            </tr>\n",
              "            <tr>\n",
              "                        <th id=\"T_744b7354_39a6_11ec_8470_0242ac1c0002level0_row13\" class=\"row_heading level0 row13\" >Price</th>\n",
              "                        <td id=\"T_744b7354_39a6_11ec_8470_0242ac1c0002row13_col0\" class=\"data row13 col0\" >-0.388305</td>\n",
              "                        <td id=\"T_744b7354_39a6_11ec_8470_0242ac1c0002row13_col1\" class=\"data row13 col1\" >0.360445</td>\n",
              "                        <td id=\"T_744b7354_39a6_11ec_8470_0242ac1c0002row13_col2\" class=\"data row13 col2\" >-0.483725</td>\n",
              "                        <td id=\"T_744b7354_39a6_11ec_8470_0242ac1c0002row13_col3\" class=\"data row13 col3\" >0.175260</td>\n",
              "                        <td id=\"T_744b7354_39a6_11ec_8470_0242ac1c0002row13_col4\" class=\"data row13 col4\" >-0.427321</td>\n",
              "                        <td id=\"T_744b7354_39a6_11ec_8470_0242ac1c0002row13_col5\" class=\"data row13 col5\" >0.695360</td>\n",
              "                        <td id=\"T_744b7354_39a6_11ec_8470_0242ac1c0002row13_col6\" class=\"data row13 col6\" >-0.376955</td>\n",
              "                        <td id=\"T_744b7354_39a6_11ec_8470_0242ac1c0002row13_col7\" class=\"data row13 col7\" >0.249929</td>\n",
              "                        <td id=\"T_744b7354_39a6_11ec_8470_0242ac1c0002row13_col8\" class=\"data row13 col8\" >-0.381626</td>\n",
              "                        <td id=\"T_744b7354_39a6_11ec_8470_0242ac1c0002row13_col9\" class=\"data row13 col9\" >-0.468536</td>\n",
              "                        <td id=\"T_744b7354_39a6_11ec_8470_0242ac1c0002row13_col10\" class=\"data row13 col10\" >-0.507787</td>\n",
              "                        <td id=\"T_744b7354_39a6_11ec_8470_0242ac1c0002row13_col11\" class=\"data row13 col11\" >0.333461</td>\n",
              "                        <td id=\"T_744b7354_39a6_11ec_8470_0242ac1c0002row13_col12\" class=\"data row13 col12\" >-0.737663</td>\n",
              "                        <td id=\"T_744b7354_39a6_11ec_8470_0242ac1c0002row13_col13\" class=\"data row13 col13\" >1.000000</td>\n",
              "            </tr>\n",
              "    </tbody></table>"
            ],
            "text/plain": [
              "<pandas.io.formats.style.Styler at 0x7fc09e6d7d50>"
            ]
          },
          "metadata": {},
          "execution_count": 23
        }
      ]
    },
    {
      "cell_type": "code",
      "metadata": {
        "colab": {
          "base_uri": "https://localhost:8080/",
          "height": 296
        },
        "id": "xAX0-C58v4ir",
        "outputId": "df5b1b4a-935a-493e-d878-0e495109ef7c"
      },
      "source": [
        "# Histogram of prices (this is the target of our dataset)\n",
        "plt.hist(bos['PRICE'],bins=30)\n",
        "sns.set_style('whitegrid')\n",
        "#label\n",
        "plt.xlabel('Price in $1000s')\n",
        "plt.ylabel('Number of houses')"
      ],
      "execution_count": null,
      "outputs": [
        {
          "output_type": "execute_result",
          "data": {
            "text/plain": [
              "Text(0, 0.5, 'Number of houses')"
            ]
          },
          "metadata": {},
          "execution_count": 83
        },
        {
          "output_type": "display_data",
          "data": {
            "image/png": "[encoded data removed]",
            "text/plain": [
              "<Figure size 432x288 with 1 Axes>"
            ]
          },
          "metadata": {}
        }
      ]
    },
    {
      "cell_type": "markdown",
      "metadata": {
        "id": "7rLCSz4Hu5Yb"
      },
      "source": [
        "Interesting, now let's see a scatter plot of one feature, versus the target. In this case we'll use the housing price versus the number of rooms in the dwelling."
      ]
    },
    {
      "cell_type": "code",
      "metadata": {
        "colab": {
          "base_uri": "https://localhost:8080/",
          "height": 576
        },
        "id": "BFHTYCqyzvPm",
        "outputId": "c7ece837-f53c-4cb7-8807-a9431df1a007"
      },
      "source": [
        "# Plot the column at the 5 index (Labeled RM)\n",
        "plt.scatter(boston.data[:,5],boston.target)\n",
        "plt.ylabel('Price in $1000s')\n",
        "plt.xlabel('Number of rooms')\n",
        "plt.figure()\n",
        "\n",
        "plt.scatter(boston.data[:,6],boston.target)\n",
        "plt.xlabel('Age')\n",
        "plt.ylabel('Price in $1000s')\n",
        "plt.figure()"
      ],
      "execution_count": null,
      "outputs": [
        {
          "output_type": "execute_result",
          "data": {
            "text/plain": [
              "<Figure size 432x288 with 0 Axes>"
            ]
          },
          "metadata": {},
          "execution_count": 24
        },
        {
          "output_type": "display_data",
          "data": {
            "image/png": "[encoded data removed]",
            "text/plain": [
              "<Figure size 432x288 with 1 Axes>"
            ]
          },
          "metadata": {
            "needs_background": "light"
          }
        },
        {
          "output_type": "display_data",
          "data": {
            "image/png": "[encoded data removed]",
            "text/plain": [
              "<Figure size 432x288 with 1 Axes>"
            ]
          },
          "metadata": {
            "needs_background": "light"
          }
        },
        {
          "output_type": "display_data",
          "data": {
            "text/plain": [
              "<Figure size 432x288 with 0 Axes>"
            ]
          },
          "metadata": {}
        }
      ]
    },
    {
      "cell_type": "markdown",
      "metadata": {
        "id": "CkkIZhXOwhV7"
      },
      "source": [
        "Great! Now we can make out a slight trend that price increases along with the number of rooms in that house, which intuitively makes sense! Now let's use scikit learn to see if we can fit the data linearly.\n",
        "Let's try to do the following:\n",
        "\n",
        "1.) Use pandas to transform the boston dataset into a DataFrame:\n",
        "\n",
        "2.) Then use seaborn to perform an lmplot on that DataFrame to reproduce the scatter plot with a linear fit line."
      ]
    },
    {
      "cell_type": "code",
      "metadata": {
        "id": "00HdvxjGw6Rf"
      },
      "source": [
        "bos = DataFrame(boston.data)\n",
        "bos.columns = boston.feature_names\n",
        "bos['Price'] = boston.target # our target value is price"
      ],
      "execution_count": 13,
      "outputs": []
    },
    {
      "cell_type": "markdown",
      "metadata": {
        "id": "MuShUik4yd6p"
      },
      "source": [
        "Now let's add the target of the boston data set, the price. We'll create a new column in our DataFrame"
      ]
    },
    {
      "cell_type": "code",
      "metadata": {
        "id": "jKewnkJ5yeqi"
      },
      "source": [
        "# Set price column for target\n",
        "bos['Price'] = boston.target"
      ],
      "execution_count": null,
      "outputs": []
    },
    {
      "cell_type": "code",
      "metadata": {
        "colab": {
          "base_uri": "https://localhost:8080/",
          "height": 442
        },
        "id": "p_oDm94g1-TE",
        "outputId": "3ce3f30c-2d31-4116-9315-df6b354dbb7d"
      },
      "source": [
        "sns.lmplot('RM','Price',data=bos)"
      ],
      "execution_count": null,
      "outputs": [
        {
          "output_type": "stream",
          "name": "stderr",
          "text": [
            "/usr/local/lib/python3.7/dist-packages/seaborn/_decorators.py:43: FutureWarning: Pass the following variables as keyword args: x, y. From version 0.12, the only valid positional argument will be `data`, and passing other arguments without an explicit keyword will result in an error or misinterpretation.\n",
            "  FutureWarning\n"
          ]
        },
        {
          "output_type": "execute_result",
          "data": {
            "text/plain": [
              "<seaborn.axisgrid.FacetGrid at 0x7f1c69f51450>"
            ]
          },
          "metadata": {},
          "execution_count": 99
        },
        {
          "output_type": "display_data",
          "data": {
            "image/png": "[encoded data removed]",
            "text/plain": [
              "<Figure size 360x360 with 1 Axes>"
            ]
          },
          "metadata": {}
        }
      ]
    },
    {
      "cell_type": "markdown",
      "metadata": {
        "id": "5Y1wZxY1zYze"
      },
      "source": [
        "Using Numpy for a Univariate Linear Regression"
      ]
    },
    {
      "cell_type": "code",
      "metadata": {
        "id": "vb2nPxbv3XOi"
      },
      "source": [
        "X=bos['RM']\n",
        "X=np.vstack(bos['RM'])\n",
        "Y=bos['Price']"
      ],
      "execution_count": null,
      "outputs": []
    },
    {
      "cell_type": "code",
      "metadata": {
        "colab": {
          "base_uri": "https://localhost:8080/"
        },
        "id": "43t2gztkYUd9",
        "outputId": "e3612d88-e02d-4d40-9707-5e7e345f2136"
      },
      "source": [
        "X=np.array([[value,1] for value in X])\n",
        "Y=bos['Price']"
      ],
      "execution_count": null,
      "outputs": [
        {
          "output_type": "stream",
          "name": "stderr",
          "text": [
            "/usr/local/lib/python3.7/dist-packages/ipykernel_launcher.py:1: VisibleDeprecationWarning: Creating an ndarray from ragged nested sequences (which is a list-or-tuple of lists-or-tuples-or ndarrays with different lengths or shapes) is deprecated. If you meant to do this, you must specify 'dtype=object' when creating the ndarray\n",
            "  \"\"\"Entry point for launching an IPython kernel.\n"
          ]
        }
      ]
    },
    {
      "cell_type": "code",
      "metadata": {
        "colab": {
          "base_uri": "https://localhost:8080/"
        },
        "id": "nPEJ6TWvanJU",
        "outputId": "5e4f9d35-6668-4808-8c2e-60107f6c9e8d"
      },
      "source": [
        "import scipy\n",
        "scipy.linalg.lstsq(X,Y)"
      ],
      "execution_count": null,
      "outputs": [
        {
          "output_type": "execute_result",
          "data": {
            "text/plain": [
              "(array([3.6533504]), 29555.781528643478, 1, array([142.24836817]))"
            ]
          },
          "metadata": {},
          "execution_count": 98
        }
      ]
    },
    {
      "cell_type": "code",
      "metadata": {
        "colab": {
          "base_uri": "https://localhost:8080/",
          "height": 202
        },
        "id": "o5QhLPo6P5pv",
        "outputId": "062d6a19-f69e-4daa-a019-4048a4be596c"
      },
      "source": [
        "bos.head()"
      ],
      "execution_count": null,
      "outputs": [
        {
          "output_type": "execute_result",
          "data": {
            "text/html": [
              "<div>\n",
              "<style scoped>\n",
              "    .dataframe tbody tr th:only-of-type {\n",
              "        vertical-align: middle;\n",
              "    }\n",
              "\n",
              "    .dataframe tbody tr th {\n",
              "        vertical-align: top;\n",
              "    }\n",
              "\n",
              "    .dataframe thead th {\n",
              "        text-align: right;\n",
              "    }\n",
              "</style>\n",
              "<table border=\"1\" class=\"dataframe\">\n",
              "  <thead>\n",
              "    <tr style=\"text-align: right;\">\n",
              "      <th></th>\n",
              "      <th>CRIM</th>\n",
              "      <th>ZN</th>\n",
              "      <th>INDUS</th>\n",
              "      <th>CHAS</th>\n",
              "      <th>NOX</th>\n",
              "      <th>RM</th>\n",
              "      <th>AGE</th>\n",
              "      <th>DIS</th>\n",
              "      <th>RAD</th>\n",
              "      <th>TAX</th>\n",
              "      <th>PTRATIO</th>\n",
              "      <th>B</th>\n",
              "      <th>LSTAT</th>\n",
              "      <th>Price</th>\n",
              "    </tr>\n",
              "  </thead>\n",
              "  <tbody>\n",
              "    <tr>\n",
              "      <th>0</th>\n",
              "      <td>0.00632</td>\n",
              "      <td>18.0</td>\n",
              "      <td>2.31</td>\n",
              "      <td>0.0</td>\n",
              "      <td>0.538</td>\n",
              "      <td>6.575</td>\n",
              "      <td>65.2</td>\n",
              "      <td>4.0900</td>\n",
              "      <td>1.0</td>\n",
              "      <td>296.0</td>\n",
              "      <td>15.3</td>\n",
              "      <td>396.90</td>\n",
              "      <td>4.98</td>\n",
              "      <td>24.0</td>\n",
              "    </tr>\n",
              "    <tr>\n",
              "      <th>1</th>\n",
              "      <td>0.02731</td>\n",
              "      <td>0.0</td>\n",
              "      <td>7.07</td>\n",
              "      <td>0.0</td>\n",
              "      <td>0.469</td>\n",
              "      <td>6.421</td>\n",
              "      <td>78.9</td>\n",
              "      <td>4.9671</td>\n",
              "      <td>2.0</td>\n",
              "      <td>242.0</td>\n",
              "      <td>17.8</td>\n",
              "      <td>396.90</td>\n",
              "      <td>9.14</td>\n",
              "      <td>21.6</td>\n",
              "    </tr>\n",
              "    <tr>\n",
              "      <th>2</th>\n",
              "      <td>0.02729</td>\n",
              "      <td>0.0</td>\n",
              "      <td>7.07</td>\n",
              "      <td>0.0</td>\n",
              "      <td>0.469</td>\n",
              "      <td>7.185</td>\n",
              "      <td>61.1</td>\n",
              "      <td>4.9671</td>\n",
              "      <td>2.0</td>\n",
              "      <td>242.0</td>\n",
              "      <td>17.8</td>\n",
              "      <td>392.83</td>\n",
              "      <td>4.03</td>\n",
              "      <td>34.7</td>\n",
              "    </tr>\n",
              "    <tr>\n",
              "      <th>3</th>\n",
              "      <td>0.03237</td>\n",
              "      <td>0.0</td>\n",
              "      <td>2.18</td>\n",
              "      <td>0.0</td>\n",
              "      <td>0.458</td>\n",
              "      <td>6.998</td>\n",
              "      <td>45.8</td>\n",
              "      <td>6.0622</td>\n",
              "      <td>3.0</td>\n",
              "      <td>222.0</td>\n",
              "      <td>18.7</td>\n",
              "      <td>394.63</td>\n",
              "      <td>2.94</td>\n",
              "      <td>33.4</td>\n",
              "    </tr>\n",
              "    <tr>\n",
              "      <th>4</th>\n",
              "      <td>0.06905</td>\n",
              "      <td>0.0</td>\n",
              "      <td>2.18</td>\n",
              "      <td>0.0</td>\n",
              "      <td>0.458</td>\n",
              "      <td>7.147</td>\n",
              "      <td>54.2</td>\n",
              "      <td>6.0622</td>\n",
              "      <td>3.0</td>\n",
              "      <td>222.0</td>\n",
              "      <td>18.7</td>\n",
              "      <td>396.90</td>\n",
              "      <td>5.33</td>\n",
              "      <td>36.2</td>\n",
              "    </tr>\n",
              "  </tbody>\n",
              "</table>\n",
              "</div>"
            ],
            "text/plain": [
              "      CRIM    ZN  INDUS  CHAS    NOX  ...    TAX  PTRATIO       B  LSTAT  Price\n",
              "0  0.00632  18.0   2.31   0.0  0.538  ...  296.0     15.3  396.90   4.98   24.0\n",
              "1  0.02731   0.0   7.07   0.0  0.469  ...  242.0     17.8  396.90   9.14   21.6\n",
              "2  0.02729   0.0   7.07   0.0  0.469  ...  242.0     17.8  392.83   4.03   34.7\n",
              "3  0.03237   0.0   2.18   0.0  0.458  ...  222.0     18.7  394.63   2.94   33.4\n",
              "4  0.06905   0.0   2.18   0.0  0.458  ...  222.0     18.7  396.90   5.33   36.2\n",
              "\n",
              "[5 rows x 14 columns]"
            ]
          },
          "metadata": {},
          "execution_count": 29
        }
      ]
    },
    {
      "cell_type": "markdown",
      "metadata": {
        "id": "UTjgZv7d36wo"
      },
      "source": [
        "**Using scikit learn to implement a multivariate regression**\n"
      ]
    },
    {
      "cell_type": "code",
      "metadata": {
        "id": "5RuRMpDL3zoP"
      },
      "source": [
        "import sklearn\n",
        "from sklearn.model_selection import train_test_split\n",
        "from sklearn.linear_model import LinearRegression\n",
        "from sklearn.metrics import r2_score,mean_squared_error"
      ],
      "execution_count": 28,
      "outputs": []
    },
    {
      "cell_type": "code",
      "metadata": {
        "id": "pdlfmhK94RRo"
      },
      "source": [
        "Lreg = LinearRegression()"
      ],
      "execution_count": 17,
      "outputs": []
    },
    {
      "cell_type": "markdown",
      "metadata": {
        "id": "PhY-_F6u4Zdf"
      },
      "source": [
        "The functions we will be using are:\n",
        "\n",
        "lreg.fit() which fits a linear model\n",
        "\n",
        "lreg.predict() which is used to predict Y using the linear model with estimated coefficients\n",
        "\n",
        "lreg.score() which returns the coefficient of determination (R^2)."
      ]
    },
    {
      "cell_type": "markdown",
      "metadata": {
        "id": "hGo4hVKc4nR5"
      },
      "source": [
        "We'll start the multi variable regression analysis by seperating our boston dataframe into the data columns and the target columns:"
      ]
    },
    {
      "cell_type": "code",
      "metadata": {
        "id": "Bum7AOiD6XvX"
      },
      "source": [
        "#Data Columns\n",
        "X_Feature=bos.iloc[:,0:13]\n",
        "\n",
        "#Target\n",
        "Y_Target=bos.Price"
      ],
      "execution_count": 20,
      "outputs": []
    },
    {
      "cell_type": "code",
      "metadata": {
        "colab": {
          "base_uri": "https://localhost:8080/"
        },
        "id": "PyKr5plc7wjH",
        "outputId": "db78d063-5aba-441b-ed8f-d427351b8cda"
      },
      "source": [
        "Lreg.fit(X_Feature,Y_Target)"
      ],
      "execution_count": 29,
      "outputs": [
        {
          "output_type": "execute_result",
          "data": {
            "text/plain": [
              "LinearRegression(copy_X=True, fit_intercept=True, n_jobs=None, normalize=False)"
            ]
          },
          "metadata": {},
          "execution_count": 29
        }
      ]
    },
    {
      "cell_type": "code",
      "metadata": {
        "colab": {
          "base_uri": "https://localhost:8080/"
        },
        "id": "ZYRhkOs-8HM_",
        "outputId": "c7d155e0-4ac9-4943-fba0-a896078704c2"
      },
      "source": [
        "print(\"The estimated intercept coefficient is %.2f\"%Lreg.intercept_)"
      ],
      "execution_count": 22,
      "outputs": [
        {
          "output_type": "stream",
          "name": "stdout",
          "text": [
            "The estimated intercept coefficient is 36.46\n"
          ]
        }
      ]
    },
    {
      "cell_type": "code",
      "metadata": {
        "colab": {
          "base_uri": "https://localhost:8080/"
        },
        "id": "TK_m4nWv8ftJ",
        "outputId": "b723c8c7-3126-46c3-de27-e9d002c26db4"
      },
      "source": [
        "print(\"The number of coefficients used are %d\"%len(Lreg.coef_))"
      ],
      "execution_count": 23,
      "outputs": [
        {
          "output_type": "stream",
          "name": "stdout",
          "text": [
            "The number of coefficients used are 13\n"
          ]
        }
      ]
    },
    {
      "cell_type": "markdown",
      "metadata": {
        "id": "hFNibtIA9eM4"
      },
      "source": [
        "Next step is to set up a DataFrame showing all the Features and their estimated coefficients obtained form the linear regression."
      ]
    },
    {
      "cell_type": "code",
      "metadata": {
        "colab": {
          "base_uri": "https://localhost:8080/",
          "height": 477
        },
        "id": "td28e2__84-i",
        "outputId": "35bb8eef-0ada-48fb-cf1a-0e818766fd4f"
      },
      "source": [
        "# Set a DataFrame from the Features\n",
        "coeff_df = DataFrame(bos.columns)\n",
        "coeff_df.columns = ['Features']\n",
        "\n",
        "# Set a new column lining up the coefficients from the linear regression\n",
        "coeff_df[\"Coefficient Estimate\"] = pd.Series(Lreg.coef_)\n",
        "\n",
        "# Show\n",
        "coeff_df"
      ],
      "execution_count": 24,
      "outputs": [
        {
          "output_type": "execute_result",
          "data": {
            "text/html": [
              "<div>\n",
              "<style scoped>\n",
              "    .dataframe tbody tr th:only-of-type {\n",
              "        vertical-align: middle;\n",
              "    }\n",
              "\n",
              "    .dataframe tbody tr th {\n",
              "        vertical-align: top;\n",
              "    }\n",
              "\n",
              "    .dataframe thead th {\n",
              "        text-align: right;\n",
              "    }\n",
              "</style>\n",
              "<table border=\"1\" class=\"dataframe\">\n",
              "  <thead>\n",
              "    <tr style=\"text-align: right;\">\n",
              "      <th></th>\n",
              "      <th>Features</th>\n",
              "      <th>Coefficient Estimate</th>\n",
              "    </tr>\n",
              "  </thead>\n",
              "  <tbody>\n",
              "    <tr>\n",
              "      <th>0</th>\n",
              "      <td>CRIM</td>\n",
              "      <td>-0.108011</td>\n",
              "    </tr>\n",
              "    <tr>\n",
              "      <th>1</th>\n",
              "      <td>ZN</td>\n",
              "      <td>0.046420</td>\n",
              "    </tr>\n",
              "    <tr>\n",
              "      <th>2</th>\n",
              "      <td>INDUS</td>\n",
              "      <td>0.020559</td>\n",
              "    </tr>\n",
              "    <tr>\n",
              "      <th>3</th>\n",
              "      <td>CHAS</td>\n",
              "      <td>2.686734</td>\n",
              "    </tr>\n",
              "    <tr>\n",
              "      <th>4</th>\n",
              "      <td>NOX</td>\n",
              "      <td>-17.766611</td>\n",
              "    </tr>\n",
              "    <tr>\n",
              "      <th>5</th>\n",
              "      <td>RM</td>\n",
              "      <td>3.809865</td>\n",
              "    </tr>\n",
              "    <tr>\n",
              "      <th>6</th>\n",
              "      <td>AGE</td>\n",
              "      <td>0.000692</td>\n",
              "    </tr>\n",
              "    <tr>\n",
              "      <th>7</th>\n",
              "      <td>DIS</td>\n",
              "      <td>-1.475567</td>\n",
              "    </tr>\n",
              "    <tr>\n",
              "      <th>8</th>\n",
              "      <td>RAD</td>\n",
              "      <td>0.306049</td>\n",
              "    </tr>\n",
              "    <tr>\n",
              "      <th>9</th>\n",
              "      <td>TAX</td>\n",
              "      <td>-0.012335</td>\n",
              "    </tr>\n",
              "    <tr>\n",
              "      <th>10</th>\n",
              "      <td>PTRATIO</td>\n",
              "      <td>-0.952747</td>\n",
              "    </tr>\n",
              "    <tr>\n",
              "      <th>11</th>\n",
              "      <td>B</td>\n",
              "      <td>0.009312</td>\n",
              "    </tr>\n",
              "    <tr>\n",
              "      <th>12</th>\n",
              "      <td>LSTAT</td>\n",
              "      <td>-0.524758</td>\n",
              "    </tr>\n",
              "    <tr>\n",
              "      <th>13</th>\n",
              "      <td>Price</td>\n",
              "      <td>NaN</td>\n",
              "    </tr>\n",
              "  </tbody>\n",
              "</table>\n",
              "</div>"
            ],
            "text/plain": [
              "   Features  Coefficient Estimate\n",
              "0      CRIM             -0.108011\n",
              "1        ZN              0.046420\n",
              "2     INDUS              0.020559\n",
              "3      CHAS              2.686734\n",
              "4       NOX            -17.766611\n",
              "5        RM              3.809865\n",
              "6       AGE              0.000692\n",
              "7       DIS             -1.475567\n",
              "8       RAD              0.306049\n",
              "9       TAX             -0.012335\n",
              "10  PTRATIO             -0.952747\n",
              "11        B              0.009312\n",
              "12    LSTAT             -0.524758\n",
              "13    Price                   NaN"
            ]
          },
          "metadata": {},
          "execution_count": 24
        }
      ]
    },
    {
      "cell_type": "markdown",
      "metadata": {
        "id": "rjGLC9GdAmUR"
      },
      "source": [
        "Just like we initially plotted out, it seems the highest correlation between a feature and a house price was the number of rooms.\n",
        "\n",
        "Now let's move on to Predicting prices!"
      ]
    },
    {
      "cell_type": "markdown",
      "metadata": {
        "id": "MmUOZt-_Ap0o"
      },
      "source": [
        "**Using Training and Validation**"
      ]
    },
    {
      "cell_type": "code",
      "metadata": {
        "id": "H388DRjIDl9D"
      },
      "source": [
        "# Grab the output and set as X and Y test and train data sets!\n",
        "X=np.vstack(bos['RM'])\n",
        "X_train, X_test, Y_train, Y_test = train_test_split(X,bos.Price,test_size=0.3,random_state=0)"
      ],
      "execution_count": 45,
      "outputs": []
    },
    {
      "cell_type": "code",
      "metadata": {
        "colab": {
          "base_uri": "https://localhost:8080/"
        },
        "id": "fHZBJf0gD6TT",
        "outputId": "fa70e6d8-5390-42c3-8a7e-89f59610b671"
      },
      "source": [
        "# Print shapes of the training and testing data sets\n",
        "print(X_train.shape, X_test.shape, Y_train.shape, Y_test.shape)"
      ],
      "execution_count": 46,
      "outputs": [
        {
          "output_type": "stream",
          "name": "stdout",
          "text": [
            "(354, 1) (152, 1) (354,) (152,)\n"
          ]
        }
      ]
    },
    {
      "cell_type": "markdown",
      "metadata": {
        "id": "Ytc_02rEEFHD"
      },
      "source": [
        "Predicting Prices"
      ]
    },
    {
      "cell_type": "code",
      "metadata": {
        "colab": {
          "base_uri": "https://localhost:8080/"
        },
        "id": "vX2VIc9AEEjn",
        "outputId": "adb1d4f6-a6cc-49ff-bfd4-53940995cdf7"
      },
      "source": [
        "Lreg = LinearRegression()\n",
        "\n",
        "\n",
        "Lreg.fit(X_train,Y_train)"
      ],
      "execution_count": 47,
      "outputs": [
        {
          "output_type": "execute_result",
          "data": {
            "text/plain": [
              "LinearRegression(copy_X=True, fit_intercept=True, n_jobs=None, normalize=False)"
            ]
          },
          "metadata": {},
          "execution_count": 47
        }
      ]
    },
    {
      "cell_type": "markdown",
      "metadata": {
        "id": "REVA2MAbFLA8"
      },
      "source": [
        "Now run a prediction on both the X training set and the testing set."
      ]
    },
    {
      "cell_type": "code",
      "metadata": {
        "id": "r6hRDyP5EYgA"
      },
      "source": [
        "pred_train=Lreg.predict(X_train)\n",
        "Y_pred=Lreg.predict(X_test)"
      ],
      "execution_count": 48,
      "outputs": []
    },
    {
      "cell_type": "markdown",
      "metadata": {
        "id": "X0ECehaAFvrY"
      },
      "source": [
        "Now we will get the mean square error"
      ]
    },
    {
      "cell_type": "code",
      "metadata": {
        "colab": {
          "base_uri": "https://localhost:8080/"
        },
        "id": "3MeMPOnbFwIg",
        "outputId": "3966bb6a-cd8a-46fd-ade6-bca522052286"
      },
      "source": [
        "print(\"Fit a model X_train, and calculate MSE with Y_train: %.2f\"  % np.mean((Y_train - pred_train) ** 2))\n",
        "    \n",
        "print(\"Fit a model X_train, and calculate MSE with X_test and Y_test: %.2f\"  %np.mean((Y_test - Y_pred) ** 2))"
      ],
      "execution_count": 49,
      "outputs": [
        {
          "output_type": "stream",
          "name": "stdout",
          "text": [
            "Fit a model X_train, and calculate MSE with Y_train: 42.16\n",
            "Fit a model X_train, and calculate MSE with X_test and Y_test: 47.03\n"
          ]
        }
      ]
    },
    {
      "cell_type": "markdown",
      "metadata": {
        "id": "6GonGHl7F9NA"
      },
      "source": [
        "It looks like our mean square error between our training and testing was pretty close. But how do we actually visualize this?"
      ]
    },
    {
      "cell_type": "code",
      "metadata": {
        "colab": {
          "base_uri": "https://localhost:8080/"
        },
        "id": "lvU8W6sIxFqO",
        "outputId": "a1e42108-0bf5-418d-e935-af529f4f78b8"
      },
      "source": [
        "r2_score(Y_test,Y_pred)"
      ],
      "execution_count": 56,
      "outputs": [
        {
          "output_type": "execute_result",
          "data": {
            "text/plain": [
              "0.43514364832115193"
            ]
          },
          "metadata": {},
          "execution_count": 56
        }
      ]
    },
    {
      "cell_type": "markdown",
      "metadata": {
        "id": "F_Mz4ed5dZWl"
      },
      "source": [
        " Residual Plots"
      ]
    },
    {
      "cell_type": "code",
      "metadata": {
        "colab": {
          "base_uri": "https://localhost:8080/",
          "height": 298
        },
        "id": "Swi0kJaOdiQ6",
        "outputId": "972b68f8-f842-4f54-9a72-ba1965bc1759"
      },
      "source": [
        "# Scatter plot the training data\n",
        "train = plt.scatter(pred_train,(Y_train-pred_train),c='b',alpha=0.5)\n",
        "\n",
        "# Scatter plot the testing data\n",
        "test = plt.scatter(Y_pred,(Y_test-Y_pred),c='r',alpha=0.5)\n",
        "\n",
        "# Plot a horizontal axis line at 0\n",
        "plt.hlines(y=0,xmin=-10,xmax=50)\n",
        "\n",
        "#Labels\n",
        "plt.legend((train,test),('Training','Test'),loc='lower left')\n",
        "plt.title('Residual Plots')"
      ],
      "execution_count": 53,
      "outputs": [
        {
          "output_type": "execute_result",
          "data": {
            "text/plain": [
              "Text(0.5, 1.0, 'Residual Plots')"
            ]
          },
          "metadata": {},
          "execution_count": 53
        },
        {
          "output_type": "display_data",
          "data": {
            "image/png": "[encoded data removed]",
            "text/plain": [
              "<Figure size 432x288 with 1 Axes>"
            ]
          },
          "metadata": {
            "needs_background": "light"
          }
        }
      ]
    },
    {
      "cell_type": "code",
      "metadata": {
        "colab": {
          "base_uri": "https://localhost:8080/",
          "height": 352
        },
        "id": "yMdTHqadd62s",
        "outputId": "6c20c1e7-d695-48a5-a0be-4b1719d4e92b"
      },
      "source": [
        "# Residual plot of all the dataset using seaborn\n",
        "sns.residplot('RM', 'Price', data = bos)"
      ],
      "execution_count": 54,
      "outputs": [
        {
          "output_type": "stream",
          "name": "stderr",
          "text": [
            "/usr/local/lib/python3.7/dist-packages/seaborn/_decorators.py:43: FutureWarning: Pass the following variables as keyword args: x, y. From version 0.12, the only valid positional argument will be `data`, and passing other arguments without an explicit keyword will result in an error or misinterpretation.\n",
            "  FutureWarning\n"
          ]
        },
        {
          "output_type": "execute_result",
          "data": {
            "text/plain": [
              "<matplotlib.axes._subplots.AxesSubplot at 0x7ff336b27990>"
            ]
          },
          "metadata": {},
          "execution_count": 54
        },
        {
          "output_type": "display_data",
          "data": {
            "image/png": "[encoded data removed]",
            "text/plain": [
              "<Figure size 432x288 with 1 Axes>"
            ]
          },
          "metadata": {
            "needs_background": "light"
          }
        }
      ]
    },
    {
      "cell_type": "markdown",
      "metadata": {
        "id": "wx2bwMJ1dacF"
      },
      "source": [
        ""
      ]
    }
  ]
}